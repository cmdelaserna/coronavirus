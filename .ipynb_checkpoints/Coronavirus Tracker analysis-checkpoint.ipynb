{
 "cells": [
  {
   "cell_type": "code",
   "execution_count": 1,
   "metadata": {},
   "outputs": [],
   "source": [
    "import pandas as pd\n",
    "import matplotlib.pyplot as plt\n",
    "import numpy as np\n",
    "from sklearn.cluster import KMeans\n",
    "import scipy.cluster.hierarchy as shc"
   ]
  },
  {
   "cell_type": "markdown",
   "metadata": {},
   "source": [
    "### Importing data"
   ]
  },
  {
   "cell_type": "code",
   "execution_count": 2,
   "metadata": {},
   "outputs": [
    {
     "data": {
      "text/plain": [
       "(176, 21)"
      ]
     },
     "execution_count": 2,
     "metadata": {},
     "output_type": "execute_result"
    }
   ],
   "source": [
    "# Data exported as csv from a google spreadsheet\n",
    "df = pd.read_csv('data/april7-2020.csv')\n",
    "\n",
    "# Show 1st record\n",
    "# df.info()\n",
    "\n",
    "df.shape"
   ]
  },
  {
   "cell_type": "markdown",
   "metadata": {},
   "source": [
    "##  Cleaning dataset\n",
    "- Results by Region\n",
    "- Results by Country"
   ]
  },
  {
   "cell_type": "code",
   "execution_count": 3,
   "metadata": {},
   "outputs": [
    {
     "name": "stdout",
     "output_type": "stream",
     "text": [
      "Null records: 3\n"
     ]
    }
   ],
   "source": [
    "print('Null records: {}'.format(len(df[df['Region '].isnull()])))"
   ]
  },
  {
   "cell_type": "code",
   "execution_count": 4,
   "metadata": {},
   "outputs": [
    {
     "data": {
      "text/plain": [
       "array(['ECA', 'MENA', 'North America', 'Asia', 'US', 'Africa', 'CSA',\n",
       "       'CSA ', 'Africa ', 'Asia '], dtype=object)"
      ]
     },
     "execution_count": 4,
     "metadata": {},
     "output_type": "execute_result"
    }
   ],
   "source": [
    "# Data cleaning: Region\n",
    "\n",
    "df = df[df['Region '].notna()]\n",
    "df['Region '].unique()"
   ]
  },
  {
   "cell_type": "code",
   "execution_count": 5,
   "metadata": {},
   "outputs": [
    {
     "data": {
      "text/plain": [
       "array(['ECA', 'MENA', 'North America', 'Asia', 'Africa', 'CSA'],\n",
       "      dtype=object)"
      ]
     },
     "execution_count": 5,
     "metadata": {},
     "output_type": "execute_result"
    }
   ],
   "source": [
    "# Clean Region column\n",
    "df['Region '].replace({'US':'North America'}, inplace=True)\n",
    "df['Region '].replace({'CSA ':'CSA'}, inplace=True)\n",
    "df['Region '].replace({'Asia ':'Asia'}, inplace=True)\n",
    "df['Region '].replace({'Africa ':'Africa'}, inplace=True)\n",
    "df['Region '].unique()"
   ]
  },
  {
   "cell_type": "code",
   "execution_count": 6,
   "metadata": {},
   "outputs": [
    {
     "data": {
      "text/plain": [
       "array(['Turkey', 'Russia ', 'Israel', 'US', 'South Korea', 'South Korea ',\n",
       "       nan, 'Singapore ', 'Taiwan', 'India ', 'Austria', 'Italy', 'Kenya',\n",
       "       'South Africa', 'Bolivia', 'Brazil', 'Poland', 'Spain',\n",
       "       'US (Israeli company)', 'Serbia', 'Ecuador', 'UK', 'Slovenia',\n",
       "       'Ukraine ', 'Azerbaijan', 'Hungary', 'Armenia', 'Croatia',\n",
       "       'North Macedonia', 'Bulgaria', 'Bosnia', 'Moldova', 'Kosovo',\n",
       "       'U.S. ', 'Canada', 'US ', 'Venezuela', 'Argentina', 'Venezuela ',\n",
       "       'Peru', 'Dominican Republic', 'Dominican Republic ', 'Honduras',\n",
       "       'El Salvador', 'El Salvador ', 'Cuba', 'Nigeria', 'Niger', 'DRC',\n",
       "       'Tanzania', 'Nigeria ', 'Ethiopia', 'Kenya ', 'Zimbabwe', 'Zambia',\n",
       "       'Cameroon', 'Liberia ', 'Uganda', \"Cote d'Ivoire \", 'Iran',\n",
       "       'Iran ', 'Egypt', 'Jordan', 'China ', 'Philippines ', 'Malaysia',\n",
       "       'India', 'Thailand', 'Bangladesh ', 'Liberia',\n",
       "       'Russian Federation'], dtype=object)"
      ]
     },
     "execution_count": 6,
     "metadata": {},
     "output_type": "execute_result"
    }
   ],
   "source": [
    "df['Country'].unique()"
   ]
  },
  {
   "cell_type": "code",
   "execution_count": 7,
   "metadata": {},
   "outputs": [
    {
     "data": {
      "text/html": [
       "<div>\n",
       "<style scoped>\n",
       "    .dataframe tbody tr th:only-of-type {\n",
       "        vertical-align: middle;\n",
       "    }\n",
       "\n",
       "    .dataframe tbody tr th {\n",
       "        vertical-align: top;\n",
       "    }\n",
       "\n",
       "    .dataframe thead th {\n",
       "        text-align: right;\n",
       "    }\n",
       "</style>\n",
       "<table border=\"1\" class=\"dataframe\">\n",
       "  <thead>\n",
       "    <tr style=\"text-align: right;\">\n",
       "      <th></th>\n",
       "      <th>Region</th>\n",
       "      <th>Country</th>\n",
       "      <th>City, Region</th>\n",
       "      <th>Description</th>\n",
       "      <th>Date (M.DD.Y)</th>\n",
       "      <th>Link</th>\n",
       "      <th>Mention or use of false news measure (Y/N)</th>\n",
       "      <th>Detained (Y/N)</th>\n",
       "      <th>Arrested (Y/N)</th>\n",
       "      <th>Imprisoned (Y/N)</th>\n",
       "      <th>...</th>\n",
       "      <th>Chilling Statement (Y/N)</th>\n",
       "      <th>Attacked (Y/N)</th>\n",
       "      <th>Charged (Y/N)</th>\n",
       "      <th>Online Harassment (Y/N)</th>\n",
       "      <th>Threatened (Y/N)</th>\n",
       "      <th>Death (Y/N)</th>\n",
       "      <th>Surveillance</th>\n",
       "      <th>Criminalization: type of new or amended law (please specify)</th>\n",
       "      <th>Disinformation or propaganda (Y/N)</th>\n",
       "      <th>Censorship</th>\n",
       "    </tr>\n",
       "  </thead>\n",
       "  <tbody>\n",
       "    <tr>\n",
       "      <th>11</th>\n",
       "      <td>North America</td>\n",
       "      <td>NaN</td>\n",
       "      <td>NaN</td>\n",
       "      <td>Facebook sharing disease migration maps to hel...</td>\n",
       "      <td>NaN</td>\n",
       "      <td>https://www.wsj.com/articles/to-track-virus-go...</td>\n",
       "      <td>NaN</td>\n",
       "      <td>NaN</td>\n",
       "      <td>NaN</td>\n",
       "      <td>NaN</td>\n",
       "      <td>...</td>\n",
       "      <td>NaN</td>\n",
       "      <td>NaN</td>\n",
       "      <td>NaN</td>\n",
       "      <td>NaN</td>\n",
       "      <td>NaN</td>\n",
       "      <td>NaN</td>\n",
       "      <td>mapping</td>\n",
       "      <td>NaN</td>\n",
       "      <td>NaN</td>\n",
       "      <td>NaN</td>\n",
       "    </tr>\n",
       "  </tbody>\n",
       "</table>\n",
       "<p>1 rows × 21 columns</p>\n",
       "</div>"
      ],
      "text/plain": [
       "          Region  Country City, Region  \\\n",
       "11  North America     NaN          NaN   \n",
       "\n",
       "                                          Description Date (M.DD.Y)  \\\n",
       "11  Facebook sharing disease migration maps to hel...           NaN   \n",
       "\n",
       "                                                 Link  \\\n",
       "11  https://www.wsj.com/articles/to-track-virus-go...   \n",
       "\n",
       "   Mention or use of false news measure (Y/N) Detained (Y/N) Arrested (Y/N)   \\\n",
       "11                                        NaN            NaN             NaN   \n",
       "\n",
       "   Imprisoned (Y/N)   ... Chilling Statement (Y/N) Attacked (Y/N)  \\\n",
       "11               NaN  ...                      NaN            NaN   \n",
       "\n",
       "   Charged (Y/N)  Online Harassment (Y/N) Threatened (Y/N) Death (Y/N)  \\\n",
       "11            NaN                     NaN              NaN         NaN   \n",
       "\n",
       "   Surveillance Criminalization: type of new or amended law (please specify)  \\\n",
       "11      mapping                                                NaN             \n",
       "\n",
       "   Disinformation or propaganda (Y/N) Censorship  \n",
       "11                                NaN        NaN  \n",
       "\n",
       "[1 rows x 21 columns]"
      ]
     },
     "execution_count": 7,
     "metadata": {},
     "output_type": "execute_result"
    }
   ],
   "source": [
    "# Data cleaning: countries\n",
    "df[df['Country'].isnull()]"
   ]
  },
  {
   "cell_type": "code",
   "execution_count": 8,
   "metadata": {},
   "outputs": [
    {
     "data": {
      "text/plain": [
       "Region                                                                                              North America\n",
       "Country                                                                                                        US\n",
       "City, Region                                                                                                  NaN\n",
       "Description                                                     Facebook sharing disease migration maps to hel...\n",
       "Date (M.DD.Y)                                                                                                 NaN\n",
       "Link                                                            https://www.wsj.com/articles/to-track-virus-go...\n",
       "Mention or use of false news measure (Y/N)                                                                    NaN\n",
       "Detained (Y/N)                                                                                                NaN\n",
       "Arrested (Y/N)                                                                                                NaN\n",
       "Imprisoned (Y/N)                                                                                              NaN\n",
       "Access Denied (Y/N)                                                                                           NaN\n",
       "Chilling Statement (Y/N)                                                                                      NaN\n",
       "Attacked (Y/N)                                                                                                NaN\n",
       "Charged (Y/N)                                                                                                 NaN\n",
       "Online Harassment (Y/N)                                                                                       NaN\n",
       "Threatened (Y/N)                                                                                              NaN\n",
       "Death (Y/N)                                                                                                   NaN\n",
       "Surveillance                                                                                              mapping\n",
       "Criminalization: type of new or amended law (please specify)                                                  NaN\n",
       "Disinformation or propaganda (Y/N)                                                                            NaN\n",
       "Censorship                                                                                                    NaN\n",
       "Name: 11, dtype: object"
      ]
     },
     "execution_count": 8,
     "metadata": {},
     "output_type": "execute_result"
    }
   ],
   "source": [
    "df.iloc[11][1] = 'US'\n",
    "df.iloc[11]"
   ]
  },
  {
   "cell_type": "code",
   "execution_count": 9,
   "metadata": {},
   "outputs": [
    {
     "name": "stdout",
     "output_type": "stream",
     "text": [
      "57\n",
      "['Argentina' 'Armenia' 'Austria' 'Azerbaijan' 'Bangladesh' 'Bolivia'\n",
      " 'Bosnia' 'Brazil' 'Bulgaria' 'Cameroon' 'Canada' 'China' \"Cote d'Ivoire\"\n",
      " 'Croatia' 'Cuba' 'DRC' 'Dominican Republic' 'Ecuador' 'Egypt'\n",
      " 'El Salvador' 'Ethiopia' 'Honduras' 'Hungary' 'India' 'Iran' 'Israel'\n",
      " 'Italy' 'Jordan' 'Kenya' 'Kosovo' 'Liberia' 'Malaysia' 'Moldova' 'Niger'\n",
      " 'Nigeria' 'North Macedonia' 'Peru' 'Philippines' 'Poland' 'Russia'\n",
      " 'Serbia' 'Singapore' 'Slovenia' 'South Africa' 'South Korea' 'Spain'\n",
      " 'Taiwan' 'Tanzania' 'Thailand' 'Turkey' 'UK' 'US' 'Uganda' 'Ukraine'\n",
      " 'Venezuela' 'Zambia' 'Zimbabwe']\n"
     ]
    }
   ],
   "source": [
    "# Cleaning countries column\n",
    "df['Country'] = df['Country'].str.strip()\n",
    "\n",
    "df['Country'].replace({'U.S.':'US'}, inplace=True)\n",
    "df['Country'].replace({'US (Israeli company)':'US'}, inplace=True)\n",
    "df['Country'].replace({'Russian Federation':'Russia'}, inplace=True)\n",
    "\n",
    "list_countries = df['Country'].sort_values().unique()\n",
    "\n",
    "print(len(list_countries))\n",
    "print(df['Country'].sort_values().unique())"
   ]
  },
  {
   "cell_type": "markdown",
   "metadata": {},
   "source": [
    "### Cleaned data summary: Region"
   ]
  },
  {
   "cell_type": "code",
   "execution_count": 10,
   "metadata": {},
   "outputs": [
    {
     "name": "stdout",
     "output_type": "stream",
     "text": [
      "173 valid records. Distribution by region:\n"
     ]
    },
    {
     "data": {
      "image/png": "[encoded data removed]",
      "text/plain": [
       "<Figure size 648x360 with 1 Axes>"
      ]
     },
     "metadata": {
      "needs_background": "light"
     },
     "output_type": "display_data"
    }
   ],
   "source": [
    "# Number of entries by region\n",
    "df['Region '] = df['Region '].str.strip()\n",
    "df['Region '].value_counts().sort_values().plot(kind='barh', figsize=(9,5))\n",
    "print('{} valid records. Distribution by region:'.format(df['Region '].count()))"
   ]
  },
  {
   "cell_type": "markdown",
   "metadata": {},
   "source": [
    "### Cleaned data summary: Countries"
   ]
  },
  {
   "cell_type": "code",
   "execution_count": 11,
   "metadata": {},
   "outputs": [
    {
     "name": "stdout",
     "output_type": "stream",
     "text": [
      "List of 9 countries out of 57 with more than 5 record in the database\n"
     ]
    },
    {
     "data": {
      "image/png": "[encoded data removed]",
      "text/plain": [
       "<Figure size 648x360 with 1 Axes>"
      ]
     },
     "metadata": {
      "needs_background": "light"
     },
     "output_type": "display_data"
    }
   ],
   "source": [
    "# Number of entries by country\n",
    "countries = df['Country'].value_counts().sort_values(ascending = False)\n",
    "\n",
    "i = 5\n",
    "\n",
    "top_countries = countries[countries > i].sort_values()\n",
    "\n",
    "top_countries.plot(kind='barh', figsize=(9,5))\n",
    "print('List of {} countries out of {} with more than {} record in the database'.format(len(top_countries), len(list_countries), i))"
   ]
  },
  {
   "cell_type": "markdown",
   "metadata": {},
   "source": [
    "### Columns formatting"
   ]
  },
  {
   "cell_type": "code",
   "execution_count": 12,
   "metadata": {},
   "outputs": [],
   "source": [
    "# Rename columns\n",
    "df.rename(columns={\"Date (M.DD.Y)\": \"date\", \n",
    "                   \"Mention or use of false news measure (Y/N)\": \"false_news\",\n",
    "                   \"Detained (Y/N)\": \"detained\",\n",
    "                   \"Arrested (Y/N) \": \"arrested\",\n",
    "                   \"Imprisoned (Y/N) \": \"imprisoned\",\n",
    "                   \"Access Denied (Y/N)\": \"access_denied\",\n",
    "                   \"Chilling Statement (Y/N)\": \"chilling_statement\",\n",
    "                   \"Attacked (Y/N)\": \"attacked\",\n",
    "                   \"Charged (Y/N) \": \"charged\",\n",
    "                   \"Online Harassment (Y/N)\": \"online_harassment\",\n",
    "                   \"Threatened (Y/N)\": \"threatened\",\n",
    "                   \"Death (Y/N)\": \"death\",\n",
    "                   \"Criminalization: type of new or amended law (please specify)\": \"criminalization\",\n",
    "                   \"Disinformation or propaganda (Y/N)\": \"disinformation_propaganda\"}, inplace=True)"
   ]
  },
  {
   "cell_type": "code",
   "execution_count": 13,
   "metadata": {},
   "outputs": [],
   "source": [
    "# List of columns to boolean\n",
    "columns_to_boolean = ['false_news', \n",
    "                      'detained', \n",
    "                      'arrested', \n",
    "                      'imprisoned', \n",
    "                      'access_denied',\n",
    "                      'chilling_statement',\n",
    "                      'attacked',\n",
    "                      'charged',\n",
    "                      'online_harassment',\n",
    "                      'threatened',\n",
    "                      'death',\n",
    "                      'Surveillance',\n",
    "                      'disinformation_propaganda']"
   ]
  },
  {
   "cell_type": "code",
   "execution_count": 14,
   "metadata": {},
   "outputs": [],
   "source": [
    "# Make columns boolean: 1/0\n",
    "for i in columns_to_boolean:\n",
    "    df[i] = df[i].apply(lambda x: 1 if x =='Y' else 0).astype('int32')"
   ]
  },
  {
   "cell_type": "code",
   "execution_count": 15,
   "metadata": {},
   "outputs": [],
   "source": [
    "# PENDING: dates formatting\n",
    "# df.date.unique()"
   ]
  },
  {
   "cell_type": "markdown",
   "metadata": {},
   "source": [
    "### Sumary: additional classification"
   ]
  },
  {
   "cell_type": "code",
   "execution_count": 16,
   "metadata": {},
   "outputs": [
    {
     "name": "stdout",
     "output_type": "stream",
     "text": [
      "Number of records with additional classification:\n"
     ]
    },
    {
     "data": {
      "text/plain": [
       "<matplotlib.axes._subplots.AxesSubplot at 0x11b7b9d10>"
      ]
     },
     "execution_count": 16,
     "metadata": {},
     "output_type": "execute_result"
    },
    {
     "data": {
      "image/png": "[encoded data removed]",
      "text/plain": [
       "<Figure size 648x360 with 1 Axes>"
      ]
     },
     "metadata": {
      "needs_background": "light"
     },
     "output_type": "display_data"
    }
   ],
   "source": [
    "#Summary of values in boolean columns\n",
    "tags = df[columns_to_boolean].apply(pd.Series.value_counts).T\n",
    "print(\"Number of records with additional classification:\")\n",
    "tags[1].sort_values(ascending = False)\n",
    "tags[1].sort_values(ascending = False).sort_values().plot(kind='barh', figsize=(9,5))"
   ]
  },
  {
   "cell_type": "code",
   "execution_count": 17,
   "metadata": {},
   "outputs": [
    {
     "data": {
      "text/plain": [
       "<matplotlib.axes._subplots.AxesSubplot at 0x11b873350>"
      ]
     },
     "execution_count": 17,
     "metadata": {},
     "output_type": "execute_result"
    },
    {
     "data": {
      "image/png": "[encoded data removed]",
      "text/plain": [
       "<Figure size 648x360 with 1 Axes>"
      ]
     },
     "metadata": {
      "needs_background": "light"
     },
     "output_type": "display_data"
    }
   ],
   "source": [
    "regions_false_news = df.loc[df['false_news'] == 1]\n",
    "\n",
    "regions_false_news.groupby(['Region '])['false_news'].count().sort_values().plot(kind='barh', figsize=(9,5))"
   ]
  },
  {
   "cell_type": "markdown",
   "metadata": {},
   "source": [
    "## Functions\n",
    "- Filter by one or two columns, print summary data & table\n",
    "- Calculate all combinations of boolean variables"
   ]
  },
  {
   "cell_type": "code",
   "execution_count": 18,
   "metadata": {},
   "outputs": [],
   "source": [
    "# Filter data by one column\n",
    "def filter_by_column(data, col):\n",
    "    table = data.loc[data[col] == 1]\n",
    "    \n",
    "#     pd.set_option('display.max_colwidth', -1)\n",
    "    \n",
    "    print('\\nThere are {} records classified as {}:\\n'.format(len(table), col))\n",
    "    print(table[['Country', 'Link']])\n",
    "    \n",
    "    print('\\nDistribution by region')\n",
    "    table['Region '].value_counts().plot(kind='barh', figsize=(9,5))\n",
    "    "
   ]
  },
  {
   "cell_type": "code",
   "execution_count": 19,
   "metadata": {},
   "outputs": [],
   "source": [
    "# Filter data by two columns\n",
    "def filter_by_two_columns(data, col1, col2):\n",
    "    table = data.loc[(data[col1] == 1) & (data[col2] == 1)]\n",
    "    try:\n",
    "        print('\\nThere are {} records classified as {} and {}:\\n'.format(len(table), col1, col2))\n",
    "        print(table[['Country', 'Link']])  \n",
    "#         print('\\nDistribution by country')\n",
    "#         table['Country'].value_counts().plot(kind='barh', figsize=(10,5))\n",
    "    \n",
    "    except IndexError:\n",
    "        print('No results')\n",
    "        pass\n"
   ]
  },
  {
   "cell_type": "markdown",
   "metadata": {},
   "source": [
    "### Summary: disinformation_propaganda"
   ]
  },
  {
   "cell_type": "code",
   "execution_count": 20,
   "metadata": {},
   "outputs": [
    {
     "name": "stdout",
     "output_type": "stream",
     "text": [
      "\n",
      "There are 11 records classified as disinformation_propaganda:\n",
      "\n",
      "     Country                                               Link\n",
      "31   Ukraine  https://www.buzzfeednews.com/article/christoph...\n",
      "32    Russia  https://www.theguardian.com/world/2020/mar/18/...\n",
      "47    Serbia  https://balkaninsight.com/2020/04/02/serbian-r...\n",
      "73        US  https://www.nytimes.com/2020/03/28/us/testing-...\n",
      "75        US  https://www.journalism.org/2020/03/18/american...\n",
      "97   Nigeria  https://www.legit.ng/1298893-coronavirus-court...\n",
      "134   Uganda  https://www.pmldaily.com/news/2020/03/pastor-y...\n",
      "135   Uganda  https://www.pmldaily.com/news/2020/03/breaking...\n",
      "155    China  https://www.propublica.org/article/how-china-b...\n",
      "158   Taiwan  https://bulletin.tfd.org.tw/tdb-vol-4-no-1-tai...\n",
      "172  Liberia  https://frontpageafricaonline.com/news/liberia...\n",
      "\n",
      "Distribution by region\n"
     ]
    },
    {
     "data": {
      "image/png": "[encoded data removed]",
      "text/plain": [
       "<Figure size 648x360 with 1 Axes>"
      ]
     },
     "metadata": {
      "needs_background": "light"
     },
     "output_type": "display_data"
    }
   ],
   "source": [
    "filter_by_column(df, 'disinformation_propaganda')"
   ]
  },
  {
   "cell_type": "code",
   "execution_count": 21,
   "metadata": {},
   "outputs": [
    {
     "name": "stdout",
     "output_type": "stream",
     "text": [
      "\n",
      "There are 12 records classified as chilling_statement:\n",
      "\n",
      "       Country                                               Link\n",
      "41      Turkey  https://www.haaretz.com/middle-east-news/turke...\n",
      "48      Serbia  https://balkaninsight.com/2020/04/01/serbian-g...\n",
      "49          UK  https://www.theguardian.com/society/2020/mar/3...\n",
      "55    Bulgaria                 http://new.aej-bulgaria.org/27-03/\n",
      "64          US  https://www.reuters.com/article/us-health-coro...\n",
      "71          US  https://twitter.com/SenatorBurr/status/1240766...\n",
      "76   Venezuela  https://twitter.com/MilagrosSocorro/status/123...\n",
      "146       Iran                                               Link\n",
      "147       Iran                                                NaN\n",
      "163      India  https://www.siasat.com/journalist-unions-lodge...\n",
      "164      India  https://twitter.com/writetohussain/status/1242...\n",
      "167      India  https://www.rediff.com/news/report/tv-journali...\n",
      "\n",
      "Distribution by region\n"
     ]
    },
    {
     "data": {
      "image/png": "[encoded data removed]",
      "text/plain": [
       "<Figure size 648x360 with 1 Axes>"
      ]
     },
     "metadata": {
      "needs_background": "light"
     },
     "output_type": "display_data"
    }
   ],
   "source": [
    "filter_by_column(df, 'chilling_statement')"
   ]
  },
  {
   "cell_type": "code",
   "execution_count": 22,
   "metadata": {},
   "outputs": [
    {
     "name": "stdout",
     "output_type": "stream",
     "text": [
      "\n",
      "There are 0 records classified as disinformation_propaganda and chilling_statement:\n",
      "\n",
      "Empty DataFrame\n",
      "Columns: [Country, Link]\n",
      "Index: []\n"
     ]
    }
   ],
   "source": [
    "# Filter data by two columns\n",
    "filter_by_two_columns(df, 'disinformation_propaganda', 'chilling_statement')"
   ]
  },
  {
   "cell_type": "markdown",
   "metadata": {},
   "source": [
    "## Clustering\n",
    "- Not enough data/annotation to aggregate by clusters at this point"
   ]
  },
  {
   "cell_type": "code",
   "execution_count": 29,
   "metadata": {},
   "outputs": [],
   "source": [
    "# from itertools import combinations\n",
    "\n",
    "# columns with boolean values\n",
    "d = df.iloc[:,6:18]\n",
    "\n",
    "# col_names = d.columns\n",
    "# combs = list(combinations(col_names,2))\n",
    "# len(combs)"
   ]
  },
  {
   "cell_type": "code",
   "execution_count": 30,
   "metadata": {},
   "outputs": [
    {
     "data": {
      "image/png": "[encoded data removed]",
      "text/plain": [
       "<Figure size 432x288 with 1 Axes>"
      ]
     },
     "metadata": {
      "needs_background": "light"
     },
     "output_type": "display_data"
    }
   ],
   "source": [
    "# Determining the number of clusters in the dataset\n",
    "Sum_of_squared_distances = []\n",
    "K = range(1,15)\n",
    "for k in K:\n",
    "    km = KMeans(n_clusters=k)\n",
    "    km = km.fit(d)\n",
    "    Sum_of_squared_distances.append(km.inertia_)\n",
    "    \n",
    "plt.plot(K, Sum_of_squared_distances, 'bx-')\n",
    "plt.xlabel('k')\n",
    "plt.ylabel('Sum_of_squared_distances')\n",
    "plt.title('Elbow Method For Optimal k')\n",
    "plt.show()"
   ]
  },
  {
   "cell_type": "code",
   "execution_count": null,
   "metadata": {},
   "outputs": [],
   "source": []
  }
 ],
 "metadata": {
  "kernelspec": {
   "display_name": "Python 3",
   "language": "python",
   "name": "python3"
  },
  "language_info": {
   "codemirror_mode": {
    "name": "ipython",
    "version": 3
   },
   "file_extension": ".py",
   "mimetype": "text/x-python",
   "name": "python",
   "nbconvert_exporter": "python",
   "pygments_lexer": "ipython3",
   "version": "3.7.5"
  }
 },
 "nbformat": 4,
 "nbformat_minor": 4
}
