{
 "cells": [
  {
   "cell_type": "code",
   "execution_count": 1,
   "metadata": {},
   "outputs": [],
   "source": [
    "import pandas as pd\n",
    "import matplotlib.pyplot as plt\n",
    "import numpy as np\n",
    "from sklearn.cluster import KMeans\n",
    "import scipy.cluster.hierarchy as shc"
   ]
  },
  {
   "cell_type": "markdown",
   "metadata": {},
   "source": [
    "### Importing data"
   ]
  },
  {
   "cell_type": "code",
   "execution_count": 2,
   "metadata": {},
   "outputs": [
    {
     "data": {
      "text/plain": [
       "(252, 23)"
      ]
     },
     "execution_count": 2,
     "metadata": {},
     "output_type": "execute_result"
    }
   ],
   "source": [
    "# Data exported as csv from a google spreadsheet\n",
    "df = pd.read_csv('data/april9-2020.csv')\n",
    "\n",
    "# Show 1st record\n",
    "# df.info()\n",
    "\n",
    "df.shape"
   ]
  },
  {
   "cell_type": "markdown",
   "metadata": {},
   "source": [
    "##  Cleaning dataset\n",
    "- Results by Region\n",
    "- Results by Country"
   ]
  },
  {
   "cell_type": "code",
   "execution_count": 3,
   "metadata": {},
   "outputs": [
    {
     "name": "stdout",
     "output_type": "stream",
     "text": [
      "Null records: 0\n"
     ]
    }
   ],
   "source": [
    "print('Null records: {}'.format(len(df[df['Region '].isnull()])))"
   ]
  },
  {
   "cell_type": "code",
   "execution_count": 4,
   "metadata": {},
   "outputs": [
    {
     "data": {
      "text/plain": [
       "array(['Africa', 'Africa ', 'Asia', 'Asia ', 'CSA', 'CSA ', 'ECA', 'MENA',\n",
       "       'North America'], dtype=object)"
      ]
     },
     "execution_count": 4,
     "metadata": {},
     "output_type": "execute_result"
    }
   ],
   "source": [
    "# Data cleaning: Region\n",
    "\n",
    "df = df[df['Region '].notna()]\n",
    "df['Region '].unique()"
   ]
  },
  {
   "cell_type": "code",
   "execution_count": 5,
   "metadata": {},
   "outputs": [
    {
     "data": {
      "text/plain": [
       "array(['Africa', 'Asia', 'CSA', 'ECA', 'MENA', 'North America'],\n",
       "      dtype=object)"
      ]
     },
     "execution_count": 5,
     "metadata": {},
     "output_type": "execute_result"
    }
   ],
   "source": [
    "# Clean Region column\n",
    "df['Region '].replace({'US':'North America'}, inplace=True)\n",
    "df['Region '].replace({'CSA ':'CSA'}, inplace=True)\n",
    "df['Region '].replace({'Asia ':'Asia'}, inplace=True)\n",
    "df['Region '].replace({'Africa ':'Africa'}, inplace=True)\n",
    "df['Region '].unique()"
   ]
  },
  {
   "cell_type": "code",
   "execution_count": 6,
   "metadata": {},
   "outputs": [
    {
     "data": {
      "text/plain": [
       "array(['Kenya', 'Nigeria', 'Niger', 'South Africa', 'DRC', 'Nigeria ',\n",
       "       'Ethiopia', 'Zimbabwe', 'Cameroon', 'Liberia ', 'Uganda',\n",
       "       'Liberia', 'Tanzania', 'Kenya ', 'Zambia', \"Cote d'Ivoire \",\n",
       "       'South Korea', 'South Korea ', 'Singapore ', 'Taiwan', 'India ',\n",
       "       'China ', 'India', 'Thailand', 'Philippines ', 'Malaysia',\n",
       "       'Bangladesh ', 'Bolivia', 'Brazil', 'Ecuador', 'Colombia',\n",
       "       'Venezuela', 'Argentina', 'Venezuela ', 'Peru',\n",
       "       'Dominican Republic', 'Aruba', 'Dominican Republic ', 'Honduras',\n",
       "       'El Salvador', 'El Salvador ', 'Trinidad & Tobago', 'Cuba',\n",
       "       'Turkey', 'Russia ', 'Austria', 'Italy', 'Poland', 'Spain',\n",
       "       'Serbia', 'UK', 'Slovenia', 'Ukraine ', 'Azerbaijan', 'Hungary',\n",
       "       'Armenia', 'Croatia', 'North Macedonia', 'Bulgaria', 'Bosnia',\n",
       "       'Moldova', 'Kosovo', 'Russian Federation', 'Iran', 'Iraq', 'Egypt',\n",
       "       'Jordan', 'Oman', 'Morocco', 'Iraqi Kurdistan', 'Iran ', 'Israel',\n",
       "       'U.S. ', 'US (Israeli company)', 'Canada'], dtype=object)"
      ]
     },
     "execution_count": 6,
     "metadata": {},
     "output_type": "execute_result"
    }
   ],
   "source": [
    "df['Country'].unique()"
   ]
  },
  {
   "cell_type": "code",
   "execution_count": 7,
   "metadata": {},
   "outputs": [
    {
     "data": {
      "text/plain": [
       "False    252\n",
       "Name: Country, dtype: int64"
      ]
     },
     "execution_count": 7,
     "metadata": {},
     "output_type": "execute_result"
    }
   ],
   "source": [
    "# Data cleaning: countries\n",
    "df['Country'].isnull().value_counts()\n",
    "# df[df['Country'].isnull()]"
   ]
  },
  {
   "cell_type": "code",
   "execution_count": 8,
   "metadata": {},
   "outputs": [],
   "source": [
    "# If needed, edit specific cells with null values in the country column\n",
    "\n",
    "# df.iloc[11][1] = 'US'\n",
    "# df.iloc[11]"
   ]
  },
  {
   "cell_type": "code",
   "execution_count": 9,
   "metadata": {},
   "outputs": [
    {
     "name": "stdout",
     "output_type": "stream",
     "text": [
      "64\n",
      "['Argentina' 'Armenia' 'Aruba' 'Austria' 'Azerbaijan' 'Bangladesh'\n",
      " 'Bolivia' 'Bosnia' 'Brazil' 'Bulgaria' 'Cameroon' 'Canada' 'China'\n",
      " 'Colombia' \"Cote d'Ivoire\" 'Croatia' 'Cuba' 'DRC' 'Dominican Republic'\n",
      " 'Ecuador' 'Egypt' 'El Salvador' 'Ethiopia' 'Honduras' 'Hungary' 'India'\n",
      " 'Iran' 'Iraq' 'Iraqi Kurdistan' 'Israel' 'Italy' 'Jordan' 'Kenya'\n",
      " 'Kosovo' 'Liberia' 'Malaysia' 'Moldova' 'Morocco' 'Niger' 'Nigeria'\n",
      " 'North Macedonia' 'Oman' 'Peru' 'Philippines' 'Poland' 'Russia' 'Serbia'\n",
      " 'Singapore' 'Slovenia' 'South Africa' 'South Korea' 'Spain' 'Taiwan'\n",
      " 'Tanzania' 'Thailand' 'Trinidad & Tobago' 'Turkey' 'UK' 'US' 'Uganda'\n",
      " 'Ukraine' 'Venezuela' 'Zambia' 'Zimbabwe']\n"
     ]
    }
   ],
   "source": [
    "# Cleaning countries column\n",
    "df['Country'] = df['Country'].str.strip()\n",
    "\n",
    "df['Country'].replace({'U.S.':'US'}, inplace=True)\n",
    "df['Country'].replace({'US (Israeli company)':'US'}, inplace=True)\n",
    "df['Country'].replace({'Russian Federation':'Russia'}, inplace=True)\n",
    "\n",
    "list_countries = df['Country'].sort_values().unique()\n",
    "\n",
    "print(len(list_countries))\n",
    "print(df['Country'].sort_values().unique())"
   ]
  },
  {
   "cell_type": "markdown",
   "metadata": {},
   "source": [
    "### Cleaned data summary: Region"
   ]
  },
  {
   "cell_type": "code",
   "execution_count": 10,
   "metadata": {},
   "outputs": [
    {
     "name": "stdout",
     "output_type": "stream",
     "text": [
      "252 valid records. Distribution by region:\n"
     ]
    },
    {
     "data": {
      "image/png": "[encoded data removed]",
      "text/plain": [
       "<Figure size 576x360 with 1 Axes>"
      ]
     },
     "metadata": {
      "needs_background": "light"
     },
     "output_type": "display_data"
    }
   ],
   "source": [
    "# Number of entries by region\n",
    "df['Region '] = df['Region '].str.strip()\n",
    "df['Region '].value_counts().sort_values().plot(kind='barh', figsize=(8,5))\n",
    "print('{} valid records. Distribution by region:'.format(df['Region '].count()))"
   ]
  },
  {
   "cell_type": "markdown",
   "metadata": {},
   "source": [
    "### Cleaned data summary: Countries"
   ]
  },
  {
   "cell_type": "code",
   "execution_count": 11,
   "metadata": {},
   "outputs": [
    {
     "name": "stdout",
     "output_type": "stream",
     "text": [
      "List of 9 countries out of 64 with more than 5 record in the database\n"
     ]
    },
    {
     "data": {
      "image/png": "[encoded data removed]",
      "text/plain": [
       "<Figure size 576x360 with 1 Axes>"
      ]
     },
     "metadata": {
      "needs_background": "light"
     },
     "output_type": "display_data"
    }
   ],
   "source": [
    "# Number of entries by country\n",
    "countries = df['Country'].value_counts().sort_values(ascending = False)\n",
    "\n",
    "i = 5\n",
    "\n",
    "top_countries = countries[countries > i].sort_values()\n",
    "\n",
    "top_countries.plot(kind='barh', figsize=(8,5))\n",
    "print('List of {} countries out of {} with more than {} record in the database'.format(len(top_countries), len(list_countries), i))"
   ]
  },
  {
   "cell_type": "markdown",
   "metadata": {},
   "source": [
    "### Columns formatting"
   ]
  },
  {
   "cell_type": "code",
   "execution_count": 12,
   "metadata": {},
   "outputs": [
    {
     "data": {
      "text/plain": [
       "Index(['Region ', 'Country', 'City, Region', 'Description', 'date', 'Link',\n",
       "       'false_news', 'detained', 'arrested', 'imprisoned', 'access_denied',\n",
       "       'chilling_statement', 'attacked', 'charged', 'online_harassment',\n",
       "       'threatened', 'death', 'surveillance', 'criminalization',\n",
       "       'disinformation_propaganda', 'Censorship', 'Print Media',\n",
       "       'layoffs/furloughs/closures/salary cuts'],\n",
       "      dtype='object')"
      ]
     },
     "execution_count": 12,
     "metadata": {},
     "output_type": "execute_result"
    }
   ],
   "source": [
    "# Rename columns\n",
    "df.rename(columns={\"Date (M.DD.Y)\": \"date\", \n",
    "                   \"Mention or use of false news measure (Y/N)\": \"false_news\",\n",
    "                   \"Detained (Y/N)\": \"detained\",\n",
    "                   \"Arrested (Y/N) \": \"arrested\",\n",
    "                   \"Imprisoned (Y/N) \": \"imprisoned\",\n",
    "                   \"Access Denied (Y/N)\": \"access_denied\",\n",
    "                   \"Chilling Statement (Y/N)\": \"chilling_statement\",\n",
    "                   \"Attacked (Y/N)\": \"attacked\",\n",
    "                   \"Charged (Y/N) \": \"charged\",\n",
    "                   \"Online Harassment (Y/N)\": \"online_harassment\",\n",
    "                   \"Threatened (Y/N)\": \"threatened\",\n",
    "                   \"Death (Y/N)\": \"death\",\n",
    "                   \"Criminalization: type of new or amended law (please specify)\": \"criminalization\",\n",
    "                   \"Surveillance (Y/N)\" : 'surveillance',\n",
    "                   \"Disinformation or propaganda (Y/N)\": \"disinformation_propaganda\"}, inplace=True)\n",
    "\n",
    "df.columns"
   ]
  },
  {
   "cell_type": "code",
   "execution_count": 13,
   "metadata": {},
   "outputs": [],
   "source": [
    "# List of columns to boolean\n",
    "columns_to_boolean = ['false_news', \n",
    "                      'detained', \n",
    "                      'arrested', \n",
    "                      'imprisoned', \n",
    "                      'access_denied',\n",
    "                      'chilling_statement',\n",
    "                      'attacked',\n",
    "                      'charged',\n",
    "                      'online_harassment',\n",
    "                      'threatened',\n",
    "                      'death',\n",
    "                      'surveillance',\n",
    "                      'disinformation_propaganda']"
   ]
  },
  {
   "cell_type": "code",
   "execution_count": 14,
   "metadata": {},
   "outputs": [],
   "source": [
    "def check_uniques_boolean(data, cols):\n",
    "    for i in cols:\n",
    "        print('{} : {} ({})'.format(i, data[i].nunique(), data[i].unique()))"
   ]
  },
  {
   "cell_type": "code",
   "execution_count": 15,
   "metadata": {},
   "outputs": [
    {
     "name": "stdout",
     "output_type": "stream",
     "text": [
      "false_news : 1 ([nan 'Y'])\n",
      "detained : 2 ([nan 'Y' 'N'])\n",
      "arrested : 2 ([nan 'Y' 'N'])\n",
      "imprisoned : 2 ([nan 'N' 'Y'])\n",
      "access_denied : 2 ([nan 'N' 'Y'])\n",
      "chilling_statement : 3 ([nan 'N' 'Y' 'y'])\n",
      "attacked : 2 ([nan 'Y' 'N'])\n",
      "charged : 2 ([nan 'Y' 'N'])\n",
      "online_harassment : 2 ([nan 'N' 'Y'])\n",
      "threatened : 2 ([nan 'Y' 'N'])\n",
      "death : 2 ([nan 'N' 'Y'])\n",
      "surveillance : 3 (['Y' nan 'N' 'Y '])\n",
      "disinformation_propaganda : 4 ([nan '?' 'N' 'Y' 'y'])\n"
     ]
    }
   ],
   "source": [
    "check_uniques_boolean(df, columns_to_boolean)"
   ]
  },
  {
   "cell_type": "code",
   "execution_count": 16,
   "metadata": {
    "scrolled": false
   },
   "outputs": [
    {
     "name": "stdout",
     "output_type": "stream",
     "text": [
      "false_news : 1 ([nan 'Y'])\n",
      "detained : 2 ([nan 'Y' 'N'])\n",
      "arrested : 2 ([nan 'Y' 'N'])\n",
      "imprisoned : 2 ([nan 'N' 'Y'])\n",
      "access_denied : 2 ([nan 'N' 'Y'])\n",
      "chilling_statement : 2 ([nan 'N' 'Y'])\n",
      "attacked : 2 ([nan 'Y' 'N'])\n",
      "charged : 2 ([nan 'Y' 'N'])\n",
      "online_harassment : 2 ([nan 'N' 'Y'])\n",
      "threatened : 2 ([nan 'Y' 'N'])\n",
      "death : 2 ([nan 'N' 'Y'])\n",
      "surveillance : 2 (['Y' nan 'N'])\n",
      "disinformation_propaganda : 2 ([nan 'N' 'Y'])\n"
     ]
    }
   ],
   "source": [
    "for i in columns_to_boolean:\n",
    "    #replace values\n",
    "    df[i] = df[i].str.strip()\n",
    "    df[i].replace({'y':'Y'}, inplace=True)\n",
    "    df[i].replace({'Y(?)':'Y'}, inplace=True)\n",
    "    df[i].replace({'Y(?)':'Y'}, inplace=True)\n",
    "    df[i].replace({'?':'N'}, inplace=True)\n",
    "    \n",
    "# check again for uniques\n",
    "check_uniques_boolean(df, columns_to_boolean)\n",
    "    "
   ]
  },
  {
   "cell_type": "code",
   "execution_count": 17,
   "metadata": {},
   "outputs": [
    {
     "data": {
      "text/plain": [
       "false_news                   2\n",
       "detained                     2\n",
       "arrested                     2\n",
       "imprisoned                   2\n",
       "access_denied                2\n",
       "chilling_statement           2\n",
       "attacked                     2\n",
       "charged                      2\n",
       "online_harassment            2\n",
       "threatened                   2\n",
       "death                        2\n",
       "surveillance                 2\n",
       "disinformation_propaganda    2\n",
       "dtype: int64"
      ]
     },
     "execution_count": 17,
     "metadata": {},
     "output_type": "execute_result"
    }
   ],
   "source": [
    "# Make columns boolean: 1/0\n",
    "for i in columns_to_boolean:\n",
    "    df[i] = df[i].apply(lambda x: 1 if x =='Y' else 0).astype('int32')\n",
    "    \n",
    "df[columns_to_boolean].nunique()"
   ]
  },
  {
   "cell_type": "code",
   "execution_count": 18,
   "metadata": {},
   "outputs": [],
   "source": [
    "# PENDING: dates formatting\n",
    "# df.date.unique()"
   ]
  },
  {
   "cell_type": "markdown",
   "metadata": {},
   "source": [
    "### Sumary: additional classification"
   ]
  },
  {
   "cell_type": "code",
   "execution_count": 22,
   "metadata": {},
   "outputs": [
    {
     "data": {
      "text/plain": [
       "false_news                   33\n",
       "surveillance                 25\n",
       "detained                     23\n",
       "attacked                     22\n",
       "threatened                   19\n",
       "chilling_statement           17\n",
       "arrested                     16\n",
       "disinformation_propaganda     9\n",
       "access_denied                 9\n",
       "online_harassment             8\n",
       "charged                       7\n",
       "imprisoned                    4\n",
       "death                         1\n",
       "Name: 1, dtype: int64"
      ]
     },
     "execution_count": 22,
     "metadata": {},
     "output_type": "execute_result"
    }
   ],
   "source": [
    "#Summary of values in boolean columns\n",
    "tags = df[columns_to_boolean].apply(pd.Series.value_counts).T\n",
    "tags[1].sort_values(ascending = False)"
   ]
  },
  {
   "cell_type": "code",
   "execution_count": 23,
   "metadata": {},
   "outputs": [
    {
     "name": "stdout",
     "output_type": "stream",
     "text": [
      "Number of records with additional classification:\n"
     ]
    },
    {
     "data": {
      "text/plain": [
       "<matplotlib.axes._subplots.AxesSubplot at 0x121c99990>"
      ]
     },
     "execution_count": 23,
     "metadata": {},
     "output_type": "execute_result"
    },
    {
     "data": {
      "image/png": "[encoded data removed]",
      "text/plain": [
       "<Figure size 576x360 with 1 Axes>"
      ]
     },
     "metadata": {
      "needs_background": "light"
     },
     "output_type": "display_data"
    }
   ],
   "source": [
    "#Summary of values in boolean columns\n",
    "tags = df[columns_to_boolean].apply(pd.Series.value_counts).T\n",
    "print(\"Number of records with additional classification:\")\n",
    "tags[1].sort_values(ascending = False)\n",
    "tags[1].sort_values(ascending = False).sort_values().plot(kind='barh', figsize=(8,5))"
   ]
  },
  {
   "cell_type": "code",
   "execution_count": 24,
   "metadata": {},
   "outputs": [
    {
     "data": {
      "text/plain": [
       "<matplotlib.axes._subplots.AxesSubplot at 0x121d2f050>"
      ]
     },
     "execution_count": 24,
     "metadata": {},
     "output_type": "execute_result"
    },
    {
     "data": {
      "image/png": "[encoded data removed]",
      "text/plain": [
       "<Figure size 576x360 with 1 Axes>"
      ]
     },
     "metadata": {
      "needs_background": "light"
     },
     "output_type": "display_data"
    }
   ],
   "source": [
    "regions_false_news = df.loc[df['false_news'] == 1]\n",
    "\n",
    "regions_false_news.groupby(['Region '])['false_news'].count().sort_values().plot(kind='barh', figsize=(8,5))"
   ]
  },
  {
   "cell_type": "markdown",
   "metadata": {},
   "source": [
    "## Functions\n",
    "- Filter by one or two columns, print summary data & table\n",
    "- Calculate all combinations of boolean variables"
   ]
  },
  {
   "cell_type": "code",
   "execution_count": 25,
   "metadata": {},
   "outputs": [],
   "source": [
    "# Filter data by one column\n",
    "def filter_by_column(data, col):\n",
    "    table = data.loc[data[col] == 1]\n",
    "    \n",
    "#     pd.set_option('display.max_colwidth', -1)\n",
    "    \n",
    "    print('\\nThere are {} records classified as {}:\\n'.format(len(table), col))\n",
    "    print(table[['Country', 'Link']])\n",
    "    \n",
    "    print('\\nDistribution by region')\n",
    "    table['Region '].value_counts().plot(kind='barh', figsize=(8,5))\n",
    "    "
   ]
  },
  {
   "cell_type": "code",
   "execution_count": 26,
   "metadata": {},
   "outputs": [],
   "source": [
    "# Filter data by two columns\n",
    "def filter_by_two_columns(data, col1, col2):\n",
    "    table = data.loc[(data[col1] == 1) & (data[col2] == 1)]\n",
    "    try:\n",
    "        print('\\nThere are {} records classified as {} and {}:\\n'.format(len(table), col1, col2))\n",
    "        print(table[['Country', 'Link']])  \n",
    "#         print('\\nDistribution by country')\n",
    "#         table['Country'].value_counts().plot(kind='barh', figsize=(10,5))\n",
    "    \n",
    "    except IndexError:\n",
    "        print('No results')\n",
    "        pass\n"
   ]
  },
  {
   "cell_type": "markdown",
   "metadata": {},
   "source": [
    "### Summary: disinformation_propaganda"
   ]
  },
  {
   "cell_type": "code",
   "execution_count": 27,
   "metadata": {},
   "outputs": [
    {
     "name": "stdout",
     "output_type": "stream",
     "text": [
      "\n",
      "There are 9 records classified as disinformation_propaganda:\n",
      "\n",
      "     Country                                               Link\n",
      "57     China  https://www.propublica.org/article/how-china-b...\n",
      "59    Taiwan  https://bulletin.tfd.org.tw/tdb-vol-4-no-1-tai...\n",
      "73   Bolivia  https://www.lavanguardia.com/politica/20200318...\n",
      "119  Ukraine  https://www.buzzfeednews.com/article/christoph...\n",
      "120   Russia  https://www.theguardian.com/world/2020/mar/18/...\n",
      "123  Armenia  https://eurasianet.org/armenia-takes-hard-line...\n",
      "183       US  https://apnews.com/7edbc93627b1040a422f2d07f50...\n",
      "195       US  https://www.journalism.org/2020/03/18/american...\n",
      "220       US  https://www.nytimes.com/2020/03/28/us/testing-...\n",
      "\n",
      "Distribution by region\n"
     ]
    },
    {
     "data": {
      "image/png": "[encoded data removed]",
      "text/plain": [
       "<Figure size 576x360 with 1 Axes>"
      ]
     },
     "metadata": {
      "needs_background": "light"
     },
     "output_type": "display_data"
    }
   ],
   "source": [
    "filter_by_column(df, 'disinformation_propaganda')"
   ]
  },
  {
   "cell_type": "code",
   "execution_count": 28,
   "metadata": {},
   "outputs": [
    {
     "name": "stdout",
     "output_type": "stream",
     "text": [
      "\n",
      "There are 25 records classified as surveillance:\n",
      "\n",
      "          Country                                               Link\n",
      "0           Kenya  https://www.standardmedia.co.ke/article/200136...\n",
      "1           Kenya  https://www.standardmedia.co.ke/health/article...\n",
      "46   South Africa  https://www.bloomberg.com/news/articles/2020-0...\n",
      "49    South Korea  https://www.technologyreview.com/s/615329/coro...\n",
      "50    South Korea  https://www.washingtonpost.com/world/asia_paci...\n",
      "51    South Korea  https://www.wsj.com/articles/how-china-slowed-...\n",
      "54      Singapore  https://www.wsj.com/articles/how-china-slowed-...\n",
      "55         Taiwan  https://www.wsj.com/articles/how-china-slowed-...\n",
      "73        Bolivia  https://www.lavanguardia.com/politica/20200318...\n",
      "74         Brazil  https://www.uol.com.br/tilt/noticias/redacao/2...\n",
      "75        Ecuador  https://twitter.com/usuariosdigital/status/124...\n",
      "106      Honduras  https://www.coindesk.com/as-governments-rush-t...\n",
      "110        Russia   https://news.trust.org/item/20200221114452-s7xez\n",
      "113        Poland  https://privacyinternational.org/examples/3473...\n",
      "114         Spain  https://www.forbes.com/sites/zakdoffman/2020/0...\n",
      "115        Russia  https://www.france24.com/en/20200324-100-000-c...\n",
      "116        Serbia  https://balkaninsight.com/2020/03/24/europes-o...\n",
      "117            UK  https://news.sky.com/story/coronavirus-govt-se...\n",
      "171        Israel  https://www.bloomberg.com/news/articles/2020-0...\n",
      "172          Iran  https://www.zdnet.com/article/spying-concerns-...\n",
      "187            US  https://science.slashdot.org/story/20/03/17/21...\n",
      "188            US  https://www.forbes.com/sites/denizcam/2020/03/...\n",
      "247            US  https://www.8newsnow.com/coronavirus/i-team-sn...\n",
      "248            US  https://www.technologyreview.com/s/615372/coro...\n",
      "251            US  https://www.wsj.com/articles/to-track-virus-go...\n",
      "\n",
      "Distribution by region\n"
     ]
    },
    {
     "data": {
      "image/png": "[encoded data removed]",
      "text/plain": [
       "<Figure size 576x360 with 1 Axes>"
      ]
     },
     "metadata": {
      "needs_background": "light"
     },
     "output_type": "display_data"
    }
   ],
   "source": [
    "filter_by_column(df, 'surveillance')"
   ]
  },
  {
   "cell_type": "code",
   "execution_count": 29,
   "metadata": {},
   "outputs": [
    {
     "name": "stdout",
     "output_type": "stream",
     "text": [
      "\n",
      "There are 33 records classified as false_news:\n",
      "\n",
      "                Country                                               Link\n",
      "2               Nigeria  https://www.legit.ng/1298893-coronavirus-court...\n",
      "3                 Niger  https://twitter.com/CPJAfrica/status/123848961...\n",
      "4                 Kenya  https://www.africanews.com/2020/03/16/media-wa...\n",
      "6          South Africa  https://twitter.com/Dariomilo/status/124038234...\n",
      "7                 Kenya  https://www.nation.co.ke/news/Alai-faces-court...\n",
      "12             Ethiopia  https://twitter.com/befeqe/status/124356075819...\n",
      "14             Zimbabwe  https://www.thestandard.co.zw/2020/03/29/20-ye...\n",
      "27               Uganda  https://www.pmldaily.com/news/2020/03/breaking...\n",
      "31              Nigeria  https://www.premiumtimesng.com/news/top-news/3...\n",
      "33              Liberia  https://frontpageafricaonline.com/news/liberia...\n",
      "34             Tanzania                                       Jamii Forums\n",
      "41         South Africa  https://www.gov.za/documents/disaster-manageme...\n",
      "47               Uganda  https://www.pmldaily.com/news/2020/03/pastor-y...\n",
      "58               Taiwan  https://news.cts.com.tw/cts/politics/202002/20...\n",
      "59               Taiwan  https://bulletin.tfd.org.tw/tdb-vol-4-no-1-tai...\n",
      "68          Philippines  https://www.rappler.com/nation/255753-duterte-...\n",
      "69            Singapore  https://www.straitstimes.com/politics/coronavi...\n",
      "72           Bangladesh  https://www.hrw.org/news/2020/03/31/bangladesh...\n",
      "97   Dominican Republic  https://listindiario.com/la-republica/2020/03/...\n",
      "115              Russia  https://www.france24.com/en/20200324-100-000-c...\n",
      "119             Ukraine  https://www.buzzfeednews.com/article/christoph...\n",
      "122             Hungary  https://www.nytimes.com/2020/03/30/world/europ...\n",
      "123             Armenia  https://eurasianet.org/armenia-takes-hard-line...\n",
      "135              Serbia  https://balkaninsight.com/2020/04/02/serbian-r...\n",
      "138              Russia  https://apnews.com/dbbf02a747b11d8ffe3b07d5e33...\n",
      "146             Moldova  https://balkaninsight.com/2020/03/31/battling-...\n",
      "154                Iran  https://twitter.com/article19iran/status/12318...\n",
      "155                Iran                                                NaN\n",
      "157                Iran  https://twitter.com/Ahmadinejad1956/status/123...\n",
      "159                Iran                                               Link\n",
      "160                Iran                                               Link\n",
      "161                Iran                                               Link\n",
      "245                  US  https://www.miamiherald.com/news/nation-world/...\n",
      "\n",
      "Distribution by region\n"
     ]
    },
    {
     "data": {
      "image/png": "[encoded data removed]",
      "text/plain": [
       "<Figure size 576x360 with 1 Axes>"
      ]
     },
     "metadata": {
      "needs_background": "light"
     },
     "output_type": "display_data"
    }
   ],
   "source": [
    "filter_by_column(df, 'false_news')"
   ]
  },
  {
   "cell_type": "code",
   "execution_count": 30,
   "metadata": {},
   "outputs": [
    {
     "name": "stdout",
     "output_type": "stream",
     "text": [
      "\n",
      "There are 3 records classified as disinformation_propaganda and false_news:\n",
      "\n",
      "     Country                                               Link\n",
      "59    Taiwan  https://bulletin.tfd.org.tw/tdb-vol-4-no-1-tai...\n",
      "119  Ukraine  https://www.buzzfeednews.com/article/christoph...\n",
      "123  Armenia  https://eurasianet.org/armenia-takes-hard-line...\n"
     ]
    }
   ],
   "source": [
    "# Filter data by two columns\n",
    "filter_by_two_columns(df, 'disinformation_propaganda', 'false_news')"
   ]
  },
  {
   "cell_type": "markdown",
   "metadata": {},
   "source": [
    "## Test: Clustering"
   ]
  },
  {
   "cell_type": "code",
   "execution_count": 31,
   "metadata": {},
   "outputs": [],
   "source": [
    "# columns with boolean values\n",
    "d = df[columns_to_boolean]\n"
   ]
  },
  {
   "cell_type": "code",
   "execution_count": 32,
   "metadata": {},
   "outputs": [
    {
     "data": {
      "image/png": "[encoded data removed]",
      "text/plain": [
       "<Figure size 432x288 with 1 Axes>"
      ]
     },
     "metadata": {
      "needs_background": "light"
     },
     "output_type": "display_data"
    }
   ],
   "source": [
    "# Determining the number of clusters in the dataset\n",
    "Sum_of_squared_distances = []\n",
    "K = range(1,15)\n",
    "for k in K:\n",
    "    km = KMeans(n_clusters=k)\n",
    "    km = km.fit(d)\n",
    "    Sum_of_squared_distances.append(km.inertia_)\n",
    "    \n",
    "plt.plot(K, Sum_of_squared_distances, 'bx-')\n",
    "plt.xlabel('k')\n",
    "plt.ylabel('Sum_of_squared_distances')\n",
    "plt.title('Elbow Method For Optimal k')\n",
    "plt.show()"
   ]
  },
  {
   "cell_type": "markdown",
   "metadata": {},
   "source": [
    "### Hierarchical clustering"
   ]
  },
  {
   "cell_type": "code",
   "execution_count": 33,
   "metadata": {},
   "outputs": [
    {
     "data": {
      "image/png": "[encoded data removed]",
      "text/plain": [
       "<Figure size 1440x504 with 1 Axes>"
      ]
     },
     "metadata": {
      "needs_background": "light"
     },
     "output_type": "display_data"
    }
   ],
   "source": [
    "plt.figure(figsize=(20, 7))  \n",
    "plt.title(\"Dendrograms\")  \n",
    "dend = shc.dendrogram(shc.linkage(d, method='ward'))"
   ]
  },
  {
   "cell_type": "markdown",
   "metadata": {},
   "source": [
    "### K-means clustering"
   ]
  },
  {
   "cell_type": "code",
   "execution_count": 34,
   "metadata": {},
   "outputs": [
    {
     "data": {
      "text/plain": [
       "KMeans(algorithm='auto', copy_x=True, init='k-means++', max_iter=300,\n",
       "       n_clusters=6, n_init=10, n_jobs=None, precompute_distances='auto',\n",
       "       random_state=None, tol=0.0001, verbose=0)"
      ]
     },
     "execution_count": 34,
     "metadata": {},
     "output_type": "execute_result"
    }
   ],
   "source": [
    "#Create clusters\n",
    "n = 6\n",
    "clusters = KMeans(n_clusters=n)\n",
    "\n",
    "# Fit clusterer\n",
    "clusters.fit(d)"
   ]
  },
  {
   "cell_type": "code",
   "execution_count": 35,
   "metadata": {},
   "outputs": [],
   "source": [
    "df['group'] = clusters.predict(d)"
   ]
  },
  {
   "cell_type": "code",
   "execution_count": 36,
   "metadata": {},
   "outputs": [
    {
     "data": {
      "text/plain": [
       "array([4, 0, 5, 1, 2, 3], dtype=int32)"
      ]
     },
     "execution_count": 36,
     "metadata": {},
     "output_type": "execute_result"
    }
   ],
   "source": [
    "df.group.unique()"
   ]
  },
  {
   "cell_type": "code",
   "execution_count": 39,
   "metadata": {},
   "outputs": [
    {
     "data": {
      "text/plain": [
       "<matplotlib.axes._subplots.AxesSubplot at 0x1228a3e90>"
      ]
     },
     "execution_count": 39,
     "metadata": {},
     "output_type": "execute_result"
    },
    {
     "data": {
      "image/png": "[encoded data removed]",
      "text/plain": [
       "<Figure size 720x360 with 1 Axes>"
      ]
     },
     "metadata": {
      "needs_background": "light"
     },
     "output_type": "display_data"
    }
   ],
   "source": [
    "df.group.value_counts().plot(kind='barh', figsize=(10,5))"
   ]
  },
  {
   "cell_type": "code",
   "execution_count": null,
   "metadata": {},
   "outputs": [],
   "source": [
    "# df[(df['group'] == 4)]"
   ]
  },
  {
   "cell_type": "code",
   "execution_count": null,
   "metadata": {},
   "outputs": [],
   "source": []
  }
 ],
 "metadata": {
  "kernelspec": {
   "display_name": "Python 3",
   "language": "python",
   "name": "python3"
  },
  "language_info": {
   "codemirror_mode": {
    "name": "ipython",
    "version": 3
   },
   "file_extension": ".py",
   "mimetype": "text/x-python",
   "name": "python",
   "nbconvert_exporter": "python",
   "pygments_lexer": "ipython3",
   "version": "3.7.5"
  }
 },
 "nbformat": 4,
 "nbformat_minor": 4
}
