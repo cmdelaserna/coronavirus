{
 "cells": [
  {
   "cell_type": "code",
   "execution_count": 1,
   "metadata": {},
   "outputs": [],
   "source": [
    "import pandas as pd\n",
    "import matplotlib.pyplot as plt\n",
    "import numpy as np\n",
    "from sklearn.cluster import KMeans\n",
    "import scipy.cluster.hierarchy as shc"
   ]
  },
  {
   "cell_type": "markdown",
   "metadata": {},
   "source": [
    "### Importing data"
   ]
  },
  {
   "cell_type": "code",
   "execution_count": 2,
   "metadata": {},
   "outputs": [
    {
     "data": {
      "text/plain": [
       "(189, 21)"
      ]
     },
     "execution_count": 2,
     "metadata": {},
     "output_type": "execute_result"
    }
   ],
   "source": [
    "# Data exported as csv from a google spreadsheet\n",
    "df = pd.read_csv('data/april8-2020.csv')\n",
    "\n",
    "# Show 1st record\n",
    "# df.info()\n",
    "\n",
    "df.shape"
   ]
  },
  {
   "cell_type": "markdown",
   "metadata": {},
   "source": [
    "##  Cleaning dataset\n",
    "- Results by Region\n",
    "- Results by Country"
   ]
  },
  {
   "cell_type": "code",
   "execution_count": 3,
   "metadata": {},
   "outputs": [
    {
     "name": "stdout",
     "output_type": "stream",
     "text": [
      "Null records: 4\n"
     ]
    }
   ],
   "source": [
    "print('Null records: {}'.format(len(df[df['Region '].isnull()])))"
   ]
  },
  {
   "cell_type": "code",
   "execution_count": 4,
   "metadata": {},
   "outputs": [
    {
     "data": {
      "text/plain": [
       "array(['ECA', 'MENA', 'North America', 'Asia', 'US', 'Africa', 'CSA',\n",
       "       'CSA ', 'Africa ', 'Asia '], dtype=object)"
      ]
     },
     "execution_count": 4,
     "metadata": {},
     "output_type": "execute_result"
    }
   ],
   "source": [
    "# Data cleaning: Region\n",
    "\n",
    "df = df[df['Region '].notna()]\n",
    "df['Region '].unique()"
   ]
  },
  {
   "cell_type": "code",
   "execution_count": 5,
   "metadata": {},
   "outputs": [
    {
     "data": {
      "text/plain": [
       "array(['ECA', 'MENA', 'North America', 'Asia', 'Africa', 'CSA'],\n",
       "      dtype=object)"
      ]
     },
     "execution_count": 5,
     "metadata": {},
     "output_type": "execute_result"
    }
   ],
   "source": [
    "# Clean Region column\n",
    "df['Region '].replace({'US':'North America'}, inplace=True)\n",
    "df['Region '].replace({'CSA ':'CSA'}, inplace=True)\n",
    "df['Region '].replace({'Asia ':'Asia'}, inplace=True)\n",
    "df['Region '].replace({'Africa ':'Africa'}, inplace=True)\n",
    "df['Region '].unique()"
   ]
  },
  {
   "cell_type": "code",
   "execution_count": 6,
   "metadata": {},
   "outputs": [
    {
     "data": {
      "text/plain": [
       "array(['Turkey', 'Russia ', 'Israel', 'US', 'South Korea', 'South Korea ',\n",
       "       nan, 'Singapore ', 'Taiwan', 'India ', 'Austria', 'Italy', 'Kenya',\n",
       "       'South Africa', 'Bolivia', 'Brazil', 'Poland', 'Spain',\n",
       "       'US (Israeli company)', 'Serbia', 'Ecuador', 'Colombia', 'UK',\n",
       "       'Slovenia', 'Ukraine ', 'Azerbaijan', 'Hungary', 'Armenia',\n",
       "       'Croatia', 'North Macedonia', 'Bulgaria', 'Bosnia', 'Moldova',\n",
       "       'Kosovo', 'U.S. ', 'Canada', 'US ', 'Venezuela', 'Argentina',\n",
       "       'Venezuela ', 'Peru', 'Dominican Republic', 'Aruba',\n",
       "       'Dominican Republic ', 'Honduras', 'El Salvador', 'El Salvador ',\n",
       "       'Trinidad & Tobago', 'Cuba', 'Nigeria', 'Niger', 'DRC', 'Tanzania',\n",
       "       'Nigeria ', 'Ethiopia', 'Kenya ', 'Zimbabwe', 'Zambia', 'Cameroon',\n",
       "       'Liberia ', 'Uganda', \"Cote d'Ivoire \", 'Iran', 'Iran ', 'Egypt',\n",
       "       'Jordan', 'China ', 'Philippines ', 'Malaysia', 'India',\n",
       "       'Thailand', 'Bangladesh ', 'Liberia', 'Russian Federation'],\n",
       "      dtype=object)"
      ]
     },
     "execution_count": 6,
     "metadata": {},
     "output_type": "execute_result"
    }
   ],
   "source": [
    "df['Country'].unique()"
   ]
  },
  {
   "cell_type": "code",
   "execution_count": 7,
   "metadata": {},
   "outputs": [
    {
     "data": {
      "text/html": [
       "<div>\n",
       "<style scoped>\n",
       "    .dataframe tbody tr th:only-of-type {\n",
       "        vertical-align: middle;\n",
       "    }\n",
       "\n",
       "    .dataframe tbody tr th {\n",
       "        vertical-align: top;\n",
       "    }\n",
       "\n",
       "    .dataframe thead th {\n",
       "        text-align: right;\n",
       "    }\n",
       "</style>\n",
       "<table border=\"1\" class=\"dataframe\">\n",
       "  <thead>\n",
       "    <tr style=\"text-align: right;\">\n",
       "      <th></th>\n",
       "      <th>Region</th>\n",
       "      <th>Country</th>\n",
       "      <th>City, Region</th>\n",
       "      <th>Description</th>\n",
       "      <th>Date (M.DD.Y)</th>\n",
       "      <th>Link</th>\n",
       "      <th>Mention or use of false news measure (Y/N)</th>\n",
       "      <th>Detained (Y/N)</th>\n",
       "      <th>Arrested (Y/N)</th>\n",
       "      <th>Imprisoned (Y/N)</th>\n",
       "      <th>...</th>\n",
       "      <th>Chilling Statement (Y/N)</th>\n",
       "      <th>Attacked (Y/N)</th>\n",
       "      <th>Charged (Y/N)</th>\n",
       "      <th>Online Harassment (Y/N)</th>\n",
       "      <th>Threatened (Y/N)</th>\n",
       "      <th>Death (Y/N)</th>\n",
       "      <th>Surveillance (Y/N)</th>\n",
       "      <th>Criminalization: type of new or amended law (please specify)</th>\n",
       "      <th>Disinformation or propaganda (Y/N)</th>\n",
       "      <th>Censorship</th>\n",
       "    </tr>\n",
       "  </thead>\n",
       "  <tbody>\n",
       "    <tr>\n",
       "      <th>11</th>\n",
       "      <td>North America</td>\n",
       "      <td>NaN</td>\n",
       "      <td>NaN</td>\n",
       "      <td>Facebook sharing disease migration maps to hel...</td>\n",
       "      <td>NaN</td>\n",
       "      <td>https://www.wsj.com/articles/to-track-virus-go...</td>\n",
       "      <td>NaN</td>\n",
       "      <td>NaN</td>\n",
       "      <td>NaN</td>\n",
       "      <td>NaN</td>\n",
       "      <td>...</td>\n",
       "      <td>NaN</td>\n",
       "      <td>NaN</td>\n",
       "      <td>NaN</td>\n",
       "      <td>NaN</td>\n",
       "      <td>NaN</td>\n",
       "      <td>NaN</td>\n",
       "      <td>Y</td>\n",
       "      <td>NaN</td>\n",
       "      <td>NaN</td>\n",
       "      <td>NaN</td>\n",
       "    </tr>\n",
       "  </tbody>\n",
       "</table>\n",
       "<p>1 rows × 21 columns</p>\n",
       "</div>"
      ],
      "text/plain": [
       "          Region  Country City, Region  \\\n",
       "11  North America     NaN          NaN   \n",
       "\n",
       "                                          Description Date (M.DD.Y)  \\\n",
       "11  Facebook sharing disease migration maps to hel...           NaN   \n",
       "\n",
       "                                                 Link  \\\n",
       "11  https://www.wsj.com/articles/to-track-virus-go...   \n",
       "\n",
       "   Mention or use of false news measure (Y/N) Detained (Y/N) Arrested (Y/N)   \\\n",
       "11                                        NaN            NaN             NaN   \n",
       "\n",
       "   Imprisoned (Y/N)   ... Chilling Statement (Y/N) Attacked (Y/N)  \\\n",
       "11               NaN  ...                      NaN            NaN   \n",
       "\n",
       "   Charged (Y/N)  Online Harassment (Y/N) Threatened (Y/N) Death (Y/N)  \\\n",
       "11            NaN                     NaN              NaN         NaN   \n",
       "\n",
       "   Surveillance (Y/N)  \\\n",
       "11                  Y   \n",
       "\n",
       "   Criminalization: type of new or amended law (please specify)  \\\n",
       "11                                                NaN             \n",
       "\n",
       "   Disinformation or propaganda (Y/N) Censorship  \n",
       "11                                NaN        NaN  \n",
       "\n",
       "[1 rows x 21 columns]"
      ]
     },
     "execution_count": 7,
     "metadata": {},
     "output_type": "execute_result"
    }
   ],
   "source": [
    "# Data cleaning: countries\n",
    "df[df['Country'].isnull()]"
   ]
  },
  {
   "cell_type": "code",
   "execution_count": 8,
   "metadata": {},
   "outputs": [
    {
     "data": {
      "text/plain": [
       "Region                                                                                              North America\n",
       "Country                                                                                                        US\n",
       "City, Region                                                                                                  NaN\n",
       "Description                                                     Facebook sharing disease migration maps to hel...\n",
       "Date (M.DD.Y)                                                                                                 NaN\n",
       "Link                                                            https://www.wsj.com/articles/to-track-virus-go...\n",
       "Mention or use of false news measure (Y/N)                                                                    NaN\n",
       "Detained (Y/N)                                                                                                NaN\n",
       "Arrested (Y/N)                                                                                                NaN\n",
       "Imprisoned (Y/N)                                                                                              NaN\n",
       "Access Denied (Y/N)                                                                                           NaN\n",
       "Chilling Statement (Y/N)                                                                                      NaN\n",
       "Attacked (Y/N)                                                                                                NaN\n",
       "Charged (Y/N)                                                                                                 NaN\n",
       "Online Harassment (Y/N)                                                                                       NaN\n",
       "Threatened (Y/N)                                                                                              NaN\n",
       "Death (Y/N)                                                                                                   NaN\n",
       "Surveillance (Y/N)                                                                                              Y\n",
       "Criminalization: type of new or amended law (please specify)                                                  NaN\n",
       "Disinformation or propaganda (Y/N)                                                                            NaN\n",
       "Censorship                                                                                                    NaN\n",
       "Name: 11, dtype: object"
      ]
     },
     "execution_count": 8,
     "metadata": {},
     "output_type": "execute_result"
    }
   ],
   "source": [
    "# Edit specific cells with null values in the country column\n",
    "\n",
    "df.iloc[11][1] = 'US'\n",
    "df.iloc[11]"
   ]
  },
  {
   "cell_type": "code",
   "execution_count": 9,
   "metadata": {},
   "outputs": [
    {
     "name": "stdout",
     "output_type": "stream",
     "text": [
      "60\n",
      "['Argentina' 'Armenia' 'Aruba' 'Austria' 'Azerbaijan' 'Bangladesh'\n",
      " 'Bolivia' 'Bosnia' 'Brazil' 'Bulgaria' 'Cameroon' 'Canada' 'China'\n",
      " 'Colombia' \"Cote d'Ivoire\" 'Croatia' 'Cuba' 'DRC' 'Dominican Republic'\n",
      " 'Ecuador' 'Egypt' 'El Salvador' 'Ethiopia' 'Honduras' 'Hungary' 'India'\n",
      " 'Iran' 'Israel' 'Italy' 'Jordan' 'Kenya' 'Kosovo' 'Liberia' 'Malaysia'\n",
      " 'Moldova' 'Niger' 'Nigeria' 'North Macedonia' 'Peru' 'Philippines'\n",
      " 'Poland' 'Russia' 'Serbia' 'Singapore' 'Slovenia' 'South Africa'\n",
      " 'South Korea' 'Spain' 'Taiwan' 'Tanzania' 'Thailand' 'Trinidad & Tobago'\n",
      " 'Turkey' 'UK' 'US' 'Uganda' 'Ukraine' 'Venezuela' 'Zambia' 'Zimbabwe']\n"
     ]
    }
   ],
   "source": [
    "# Cleaning countries column\n",
    "df['Country'] = df['Country'].str.strip()\n",
    "\n",
    "df['Country'].replace({'U.S.':'US'}, inplace=True)\n",
    "df['Country'].replace({'US (Israeli company)':'US'}, inplace=True)\n",
    "df['Country'].replace({'Russian Federation':'Russia'}, inplace=True)\n",
    "\n",
    "list_countries = df['Country'].sort_values().unique()\n",
    "\n",
    "print(len(list_countries))\n",
    "print(df['Country'].sort_values().unique())"
   ]
  },
  {
   "cell_type": "markdown",
   "metadata": {},
   "source": [
    "### Cleaned data summary: Region"
   ]
  },
  {
   "cell_type": "code",
   "execution_count": 57,
   "metadata": {},
   "outputs": [
    {
     "name": "stdout",
     "output_type": "stream",
     "text": [
      "185 valid records. Distribution by region:\n"
     ]
    },
    {
     "data": {
      "image/png": "[encoded data removed]",
      "text/plain": [
       "<Figure size 576x360 with 1 Axes>"
      ]
     },
     "metadata": {
      "needs_background": "light"
     },
     "output_type": "display_data"
    }
   ],
   "source": [
    "# Number of entries by region\n",
    "df['Region '] = df['Region '].str.strip()\n",
    "df['Region '].value_counts().sort_values().plot(kind='barh', figsize=(8,5))\n",
    "print('{} valid records. Distribution by region:'.format(df['Region '].count()))"
   ]
  },
  {
   "cell_type": "markdown",
   "metadata": {},
   "source": [
    "### Cleaned data summary: Countries"
   ]
  },
  {
   "cell_type": "code",
   "execution_count": 58,
   "metadata": {},
   "outputs": [
    {
     "name": "stdout",
     "output_type": "stream",
     "text": [
      "List of 9 countries out of 60 with more than 5 record in the database\n"
     ]
    },
    {
     "data": {
      "image/png": "[encoded data removed]",
      "text/plain": [
       "<Figure size 576x360 with 1 Axes>"
      ]
     },
     "metadata": {
      "needs_background": "light"
     },
     "output_type": "display_data"
    }
   ],
   "source": [
    "# Number of entries by country\n",
    "countries = df['Country'].value_counts().sort_values(ascending = False)\n",
    "\n",
    "i = 5\n",
    "\n",
    "top_countries = countries[countries > i].sort_values()\n",
    "\n",
    "top_countries.plot(kind='barh', figsize=(8,5))\n",
    "print('List of {} countries out of {} with more than {} record in the database'.format(len(top_countries), len(list_countries), i))"
   ]
  },
  {
   "cell_type": "markdown",
   "metadata": {},
   "source": [
    "### Columns formatting\n",
    "- Needs to be reviewed. Calculation of number of tags gives error"
   ]
  },
  {
   "cell_type": "code",
   "execution_count": 12,
   "metadata": {},
   "outputs": [
    {
     "data": {
      "text/plain": [
       "Index(['Region ', 'Country', 'City, Region', 'Description', 'date', 'Link',\n",
       "       'false_news', 'detained', 'arrested', 'imprisoned', 'access_denied',\n",
       "       'chilling_statement', 'attacked', 'charged', 'online_harassment',\n",
       "       'threatened', 'death', 'surveillance', 'criminalization',\n",
       "       'disinformation_propaganda', 'Censorship'],\n",
       "      dtype='object')"
      ]
     },
     "execution_count": 12,
     "metadata": {},
     "output_type": "execute_result"
    }
   ],
   "source": [
    "# Rename columns\n",
    "df.rename(columns={\"Date (M.DD.Y)\": \"date\", \n",
    "                   \"Mention or use of false news measure (Y/N)\": \"false_news\",\n",
    "                   \"Detained (Y/N)\": \"detained\",\n",
    "                   \"Arrested (Y/N) \": \"arrested\",\n",
    "                   \"Imprisoned (Y/N) \": \"imprisoned\",\n",
    "                   \"Access Denied (Y/N)\": \"access_denied\",\n",
    "                   \"Chilling Statement (Y/N)\": \"chilling_statement\",\n",
    "                   \"Attacked (Y/N)\": \"attacked\",\n",
    "                   \"Charged (Y/N) \": \"charged\",\n",
    "                   \"Online Harassment (Y/N)\": \"online_harassment\",\n",
    "                   \"Threatened (Y/N)\": \"threatened\",\n",
    "                   \"Death (Y/N)\": \"death\",\n",
    "                   \"Criminalization: type of new or amended law (please specify)\": \"criminalization\",\n",
    "                   \"Surveillance (Y/N)\" : 'surveillance',\n",
    "                   \"Disinformation or propaganda (Y/N)\": \"disinformation_propaganda\"}, inplace=True)\n",
    "\n",
    "df.columns"
   ]
  },
  {
   "cell_type": "code",
   "execution_count": 13,
   "metadata": {},
   "outputs": [],
   "source": [
    "# List of columns to boolean\n",
    "columns_to_boolean = ['false_news', \n",
    "                      'detained', \n",
    "                      'arrested', \n",
    "                      'imprisoned', \n",
    "                      'access_denied',\n",
    "                      'chilling_statement',\n",
    "                      'attacked',\n",
    "                      'charged',\n",
    "                      'online_harassment',\n",
    "                      'threatened',\n",
    "                      'death',\n",
    "                      'surveillance',\n",
    "                      'disinformation_propaganda']"
   ]
  },
  {
   "cell_type": "code",
   "execution_count": 21,
   "metadata": {},
   "outputs": [],
   "source": [
    "def check_uniques_boolean(data, cols):\n",
    "    for i in cols:\n",
    "        print('{} : {} ({})'.format(i, data[i].nunique(), data[i].unique()))"
   ]
  },
  {
   "cell_type": "code",
   "execution_count": 22,
   "metadata": {},
   "outputs": [
    {
     "name": "stdout",
     "output_type": "stream",
     "text": [
      "false_news : 2 ([nan 'Y' 'y'])\n",
      "detained : 3 (['Y' nan 'N' 'Y(?)'])\n",
      "arrested : 2 ([nan 'Y' 'N'])\n",
      "imprisoned : 2 ([nan 'Y' 'N'])\n",
      "access_denied : 2 ([nan 'N' 'Y'])\n",
      "chilling_statement : 3 ([nan 'y' 'Y' 'N'])\n",
      "attacked : 2 ([nan 'Y' 'N'])\n",
      "charged : 2 ([nan 'Y' 'N'])\n",
      "online_harassment : 2 ([nan 'Y' 'N'])\n",
      "threatened : 2 ([nan 'Y' 'N'])\n",
      "death : 2 ([nan 'Y' 'N'])\n",
      "surveillance : 3 ([nan 'Y ' 'Y' 'N'])\n",
      "disinformation_propaganda : 4 ([nan 'Y' 'y' '?' 'N'])\n"
     ]
    }
   ],
   "source": [
    "check_uniques_boolean(df, columns_to_boolean)"
   ]
  },
  {
   "cell_type": "code",
   "execution_count": 27,
   "metadata": {
    "scrolled": false
   },
   "outputs": [
    {
     "name": "stdout",
     "output_type": "stream",
     "text": [
      "false_news : 1 ([nan 'Y'])\n",
      "detained : 2 (['Y' nan 'N'])\n",
      "arrested : 2 ([nan 'Y' 'N'])\n",
      "imprisoned : 2 ([nan 'Y' 'N'])\n",
      "access_denied : 2 ([nan 'N' 'Y'])\n",
      "chilling_statement : 2 ([nan 'Y' 'N'])\n",
      "attacked : 2 ([nan 'Y' 'N'])\n",
      "charged : 2 ([nan 'Y' 'N'])\n",
      "online_harassment : 2 ([nan 'Y' 'N'])\n",
      "threatened : 2 ([nan 'Y' 'N'])\n",
      "death : 2 ([nan 'Y' 'N'])\n",
      "surveillance : 2 ([nan 'Y' 'N'])\n",
      "disinformation_propaganda : 2 ([nan 'Y' 'N'])\n"
     ]
    }
   ],
   "source": [
    "for i in columns_to_boolean:\n",
    "    #replace values\n",
    "    df[i] = df[i].str.strip()\n",
    "    df[i].replace({'y':'Y'}, inplace=True)\n",
    "    df[i].replace({'Y(?)':'Y'}, inplace=True)\n",
    "    df[i].replace({'Y(?)':'Y'}, inplace=True)\n",
    "    df[i].replace({'?':'N'}, inplace=True)\n",
    "    \n",
    "# check again for uniques\n",
    "check_uniques_boolean(df, columns_to_boolean)\n",
    "    "
   ]
  },
  {
   "cell_type": "code",
   "execution_count": 28,
   "metadata": {},
   "outputs": [
    {
     "data": {
      "text/html": [
       "<div>\n",
       "<style scoped>\n",
       "    .dataframe tbody tr th:only-of-type {\n",
       "        vertical-align: middle;\n",
       "    }\n",
       "\n",
       "    .dataframe tbody tr th {\n",
       "        vertical-align: top;\n",
       "    }\n",
       "\n",
       "    .dataframe thead th {\n",
       "        text-align: right;\n",
       "    }\n",
       "</style>\n",
       "<table border=\"1\" class=\"dataframe\">\n",
       "  <thead>\n",
       "    <tr style=\"text-align: right;\">\n",
       "      <th></th>\n",
       "      <th>false_news</th>\n",
       "      <th>detained</th>\n",
       "      <th>arrested</th>\n",
       "      <th>imprisoned</th>\n",
       "      <th>access_denied</th>\n",
       "      <th>chilling_statement</th>\n",
       "      <th>attacked</th>\n",
       "      <th>charged</th>\n",
       "      <th>online_harassment</th>\n",
       "      <th>threatened</th>\n",
       "      <th>death</th>\n",
       "      <th>surveillance</th>\n",
       "      <th>disinformation_propaganda</th>\n",
       "    </tr>\n",
       "  </thead>\n",
       "  <tbody>\n",
       "    <tr>\n",
       "      <th>57</th>\n",
       "      <td>0</td>\n",
       "      <td>0</td>\n",
       "      <td>0</td>\n",
       "      <td>0</td>\n",
       "      <td>0</td>\n",
       "      <td>0</td>\n",
       "      <td>1</td>\n",
       "      <td>0</td>\n",
       "      <td>0</td>\n",
       "      <td>0</td>\n",
       "      <td>0</td>\n",
       "      <td>0</td>\n",
       "      <td>0</td>\n",
       "    </tr>\n",
       "    <tr>\n",
       "      <th>159</th>\n",
       "      <td>1</td>\n",
       "      <td>0</td>\n",
       "      <td>0</td>\n",
       "      <td>0</td>\n",
       "      <td>0</td>\n",
       "      <td>1</td>\n",
       "      <td>0</td>\n",
       "      <td>0</td>\n",
       "      <td>0</td>\n",
       "      <td>0</td>\n",
       "      <td>0</td>\n",
       "      <td>0</td>\n",
       "      <td>0</td>\n",
       "    </tr>\n",
       "    <tr>\n",
       "      <th>146</th>\n",
       "      <td>1</td>\n",
       "      <td>0</td>\n",
       "      <td>0</td>\n",
       "      <td>0</td>\n",
       "      <td>0</td>\n",
       "      <td>0</td>\n",
       "      <td>0</td>\n",
       "      <td>0</td>\n",
       "      <td>0</td>\n",
       "      <td>0</td>\n",
       "      <td>0</td>\n",
       "      <td>0</td>\n",
       "      <td>0</td>\n",
       "    </tr>\n",
       "    <tr>\n",
       "      <th>117</th>\n",
       "      <td>1</td>\n",
       "      <td>0</td>\n",
       "      <td>1</td>\n",
       "      <td>0</td>\n",
       "      <td>0</td>\n",
       "      <td>0</td>\n",
       "      <td>0</td>\n",
       "      <td>0</td>\n",
       "      <td>0</td>\n",
       "      <td>0</td>\n",
       "      <td>0</td>\n",
       "      <td>0</td>\n",
       "      <td>0</td>\n",
       "    </tr>\n",
       "    <tr>\n",
       "      <th>40</th>\n",
       "      <td>0</td>\n",
       "      <td>1</td>\n",
       "      <td>0</td>\n",
       "      <td>0</td>\n",
       "      <td>0</td>\n",
       "      <td>0</td>\n",
       "      <td>0</td>\n",
       "      <td>1</td>\n",
       "      <td>0</td>\n",
       "      <td>1</td>\n",
       "      <td>0</td>\n",
       "      <td>0</td>\n",
       "      <td>0</td>\n",
       "    </tr>\n",
       "    <tr>\n",
       "      <th>66</th>\n",
       "      <td>0</td>\n",
       "      <td>0</td>\n",
       "      <td>0</td>\n",
       "      <td>0</td>\n",
       "      <td>0</td>\n",
       "      <td>0</td>\n",
       "      <td>0</td>\n",
       "      <td>0</td>\n",
       "      <td>0</td>\n",
       "      <td>0</td>\n",
       "      <td>0</td>\n",
       "      <td>0</td>\n",
       "      <td>0</td>\n",
       "    </tr>\n",
       "    <tr>\n",
       "      <th>178</th>\n",
       "      <td>0</td>\n",
       "      <td>0</td>\n",
       "      <td>0</td>\n",
       "      <td>0</td>\n",
       "      <td>0</td>\n",
       "      <td>0</td>\n",
       "      <td>0</td>\n",
       "      <td>0</td>\n",
       "      <td>0</td>\n",
       "      <td>0</td>\n",
       "      <td>0</td>\n",
       "      <td>0</td>\n",
       "      <td>0</td>\n",
       "    </tr>\n",
       "    <tr>\n",
       "      <th>88</th>\n",
       "      <td>0</td>\n",
       "      <td>0</td>\n",
       "      <td>0</td>\n",
       "      <td>0</td>\n",
       "      <td>0</td>\n",
       "      <td>0</td>\n",
       "      <td>0</td>\n",
       "      <td>0</td>\n",
       "      <td>0</td>\n",
       "      <td>0</td>\n",
       "      <td>0</td>\n",
       "      <td>0</td>\n",
       "      <td>0</td>\n",
       "    </tr>\n",
       "    <tr>\n",
       "      <th>61</th>\n",
       "      <td>0</td>\n",
       "      <td>0</td>\n",
       "      <td>0</td>\n",
       "      <td>0</td>\n",
       "      <td>0</td>\n",
       "      <td>0</td>\n",
       "      <td>1</td>\n",
       "      <td>0</td>\n",
       "      <td>0</td>\n",
       "      <td>1</td>\n",
       "      <td>0</td>\n",
       "      <td>0</td>\n",
       "      <td>0</td>\n",
       "    </tr>\n",
       "    <tr>\n",
       "      <th>119</th>\n",
       "      <td>0</td>\n",
       "      <td>0</td>\n",
       "      <td>0</td>\n",
       "      <td>0</td>\n",
       "      <td>0</td>\n",
       "      <td>0</td>\n",
       "      <td>0</td>\n",
       "      <td>0</td>\n",
       "      <td>0</td>\n",
       "      <td>0</td>\n",
       "      <td>0</td>\n",
       "      <td>0</td>\n",
       "      <td>0</td>\n",
       "    </tr>\n",
       "  </tbody>\n",
       "</table>\n",
       "</div>"
      ],
      "text/plain": [
       "     false_news  detained  arrested  imprisoned  access_denied  \\\n",
       "57            0         0         0           0              0   \n",
       "159           1         0         0           0              0   \n",
       "146           1         0         0           0              0   \n",
       "117           1         0         1           0              0   \n",
       "40            0         1         0           0              0   \n",
       "66            0         0         0           0              0   \n",
       "178           0         0         0           0              0   \n",
       "88            0         0         0           0              0   \n",
       "61            0         0         0           0              0   \n",
       "119           0         0         0           0              0   \n",
       "\n",
       "     chilling_statement  attacked  charged  online_harassment  threatened  \\\n",
       "57                    0         1        0                  0           0   \n",
       "159                   1         0        0                  0           0   \n",
       "146                   0         0        0                  0           0   \n",
       "117                   0         0        0                  0           0   \n",
       "40                    0         0        1                  0           1   \n",
       "66                    0         0        0                  0           0   \n",
       "178                   0         0        0                  0           0   \n",
       "88                    0         0        0                  0           0   \n",
       "61                    0         1        0                  0           1   \n",
       "119                   0         0        0                  0           0   \n",
       "\n",
       "     death  surveillance  disinformation_propaganda  \n",
       "57       0             0                          0  \n",
       "159      0             0                          0  \n",
       "146      0             0                          0  \n",
       "117      0             0                          0  \n",
       "40       0             0                          0  \n",
       "66       0             0                          0  \n",
       "178      0             0                          0  \n",
       "88       0             0                          0  \n",
       "61       0             0                          0  \n",
       "119      0             0                          0  "
      ]
     },
     "execution_count": 28,
     "metadata": {},
     "output_type": "execute_result"
    }
   ],
   "source": [
    "# Make columns boolean: 1/0\n",
    "for i in columns_to_boolean:\n",
    "    df[i] = df[i].apply(lambda x: 1 if x =='Y' else 0).astype('int32')\n",
    "    \n",
    "df[columns_to_boolean].sample(10)"
   ]
  },
  {
   "cell_type": "code",
   "execution_count": null,
   "metadata": {},
   "outputs": [],
   "source": [
    "# PENDING: dates formatting\n",
    "# df.date.unique()"
   ]
  },
  {
   "cell_type": "markdown",
   "metadata": {},
   "source": [
    "### Sumary: additional classification"
   ]
  },
  {
   "cell_type": "code",
   "execution_count": 29,
   "metadata": {},
   "outputs": [
    {
     "data": {
      "text/plain": [
       "false_news                   2\n",
       "detained                     2\n",
       "arrested                     2\n",
       "imprisoned                   2\n",
       "access_denied                2\n",
       "chilling_statement           2\n",
       "attacked                     2\n",
       "charged                      2\n",
       "online_harassment            2\n",
       "threatened                   2\n",
       "death                        2\n",
       "surveillance                 2\n",
       "disinformation_propaganda    2\n",
       "dtype: int64"
      ]
     },
     "execution_count": 29,
     "metadata": {},
     "output_type": "execute_result"
    }
   ],
   "source": [
    "df[columns_to_boolean].nunique()"
   ]
  },
  {
   "cell_type": "code",
   "execution_count": 30,
   "metadata": {},
   "outputs": [
    {
     "data": {
      "text/html": [
       "<div>\n",
       "<style scoped>\n",
       "    .dataframe tbody tr th:only-of-type {\n",
       "        vertical-align: middle;\n",
       "    }\n",
       "\n",
       "    .dataframe tbody tr th {\n",
       "        vertical-align: top;\n",
       "    }\n",
       "\n",
       "    .dataframe thead th {\n",
       "        text-align: right;\n",
       "    }\n",
       "</style>\n",
       "<table border=\"1\" class=\"dataframe\">\n",
       "  <thead>\n",
       "    <tr style=\"text-align: right;\">\n",
       "      <th></th>\n",
       "      <th>0</th>\n",
       "      <th>1</th>\n",
       "    </tr>\n",
       "  </thead>\n",
       "  <tbody>\n",
       "    <tr>\n",
       "      <th>false_news</th>\n",
       "      <td>154</td>\n",
       "      <td>31</td>\n",
       "    </tr>\n",
       "    <tr>\n",
       "      <th>detained</th>\n",
       "      <td>165</td>\n",
       "      <td>20</td>\n",
       "    </tr>\n",
       "    <tr>\n",
       "      <th>arrested</th>\n",
       "      <td>170</td>\n",
       "      <td>15</td>\n",
       "    </tr>\n",
       "    <tr>\n",
       "      <th>imprisoned</th>\n",
       "      <td>181</td>\n",
       "      <td>4</td>\n",
       "    </tr>\n",
       "    <tr>\n",
       "      <th>access_denied</th>\n",
       "      <td>179</td>\n",
       "      <td>6</td>\n",
       "    </tr>\n",
       "    <tr>\n",
       "      <th>chilling_statement</th>\n",
       "      <td>171</td>\n",
       "      <td>14</td>\n",
       "    </tr>\n",
       "    <tr>\n",
       "      <th>attacked</th>\n",
       "      <td>165</td>\n",
       "      <td>20</td>\n",
       "    </tr>\n",
       "    <tr>\n",
       "      <th>charged</th>\n",
       "      <td>178</td>\n",
       "      <td>7</td>\n",
       "    </tr>\n",
       "    <tr>\n",
       "      <th>online_harassment</th>\n",
       "      <td>177</td>\n",
       "      <td>8</td>\n",
       "    </tr>\n",
       "    <tr>\n",
       "      <th>threatened</th>\n",
       "      <td>166</td>\n",
       "      <td>19</td>\n",
       "    </tr>\n",
       "    <tr>\n",
       "      <th>death</th>\n",
       "      <td>184</td>\n",
       "      <td>1</td>\n",
       "    </tr>\n",
       "    <tr>\n",
       "      <th>surveillance</th>\n",
       "      <td>165</td>\n",
       "      <td>20</td>\n",
       "    </tr>\n",
       "    <tr>\n",
       "      <th>disinformation_propaganda</th>\n",
       "      <td>178</td>\n",
       "      <td>7</td>\n",
       "    </tr>\n",
       "  </tbody>\n",
       "</table>\n",
       "</div>"
      ],
      "text/plain": [
       "                             0   1\n",
       "false_news                 154  31\n",
       "detained                   165  20\n",
       "arrested                   170  15\n",
       "imprisoned                 181   4\n",
       "access_denied              179   6\n",
       "chilling_statement         171  14\n",
       "attacked                   165  20\n",
       "charged                    178   7\n",
       "online_harassment          177   8\n",
       "threatened                 166  19\n",
       "death                      184   1\n",
       "surveillance               165  20\n",
       "disinformation_propaganda  178   7"
      ]
     },
     "execution_count": 30,
     "metadata": {},
     "output_type": "execute_result"
    }
   ],
   "source": [
    "#Summary of values in boolean columns\n",
    "tags = df[columns_to_boolean].apply(pd.Series.value_counts).T\n",
    "tags"
   ]
  },
  {
   "cell_type": "code",
   "execution_count": 59,
   "metadata": {},
   "outputs": [
    {
     "name": "stdout",
     "output_type": "stream",
     "text": [
      "Number of records with additional classification:\n"
     ]
    },
    {
     "data": {
      "text/plain": [
       "<matplotlib.axes._subplots.AxesSubplot at 0x126f2e510>"
      ]
     },
     "execution_count": 59,
     "metadata": {},
     "output_type": "execute_result"
    },
    {
     "data": {
      "image/png": "[encoded data removed]",
      "text/plain": [
       "<Figure size 576x360 with 1 Axes>"
      ]
     },
     "metadata": {
      "needs_background": "light"
     },
     "output_type": "display_data"
    }
   ],
   "source": [
    "#Summary of values in boolean columns\n",
    "tags = df[columns_to_boolean].apply(pd.Series.value_counts).T\n",
    "print(\"Number of records with additional classification:\")\n",
    "tags[1].sort_values(ascending = False)\n",
    "tags[1].sort_values(ascending = False).sort_values().plot(kind='barh', figsize=(8,5))"
   ]
  },
  {
   "cell_type": "code",
   "execution_count": 60,
   "metadata": {},
   "outputs": [
    {
     "data": {
      "text/plain": [
       "<matplotlib.axes._subplots.AxesSubplot at 0x12700af90>"
      ]
     },
     "execution_count": 60,
     "metadata": {},
     "output_type": "execute_result"
    },
    {
     "data": {
      "image/png": "[encoded data removed]",
      "text/plain": [
       "<Figure size 576x360 with 1 Axes>"
      ]
     },
     "metadata": {
      "needs_background": "light"
     },
     "output_type": "display_data"
    }
   ],
   "source": [
    "regions_false_news = df.loc[df['false_news'] == 1]\n",
    "\n",
    "regions_false_news.groupby(['Region '])['false_news'].count().sort_values().plot(kind='barh', figsize=(8,5))"
   ]
  },
  {
   "cell_type": "markdown",
   "metadata": {},
   "source": [
    "## Functions\n",
    "- Filter by one or two columns, print summary data & table\n",
    "- Calculate all combinations of boolean variables"
   ]
  },
  {
   "cell_type": "code",
   "execution_count": 61,
   "metadata": {},
   "outputs": [],
   "source": [
    "# Filter data by one column\n",
    "def filter_by_column(data, col):\n",
    "    table = data.loc[data[col] == 1]\n",
    "    \n",
    "#     pd.set_option('display.max_colwidth', -1)\n",
    "    \n",
    "    print('\\nThere are {} records classified as {}:\\n'.format(len(table), col))\n",
    "    print(table[['Country', 'Link']])\n",
    "    \n",
    "    print('\\nDistribution by region')\n",
    "    table['Region '].value_counts().plot(kind='barh', figsize=(8,5))\n",
    "    "
   ]
  },
  {
   "cell_type": "code",
   "execution_count": 62,
   "metadata": {},
   "outputs": [],
   "source": [
    "# Filter data by two columns\n",
    "def filter_by_two_columns(data, col1, col2):\n",
    "    table = data.loc[(data[col1] == 1) & (data[col2] == 1)]\n",
    "    try:\n",
    "        print('\\nThere are {} records classified as {} and {}:\\n'.format(len(table), col1, col2))\n",
    "        print(table[['Country', 'Link']])  \n",
    "#         print('\\nDistribution by country')\n",
    "#         table['Country'].value_counts().plot(kind='barh', figsize=(10,5))\n",
    "    \n",
    "    except IndexError:\n",
    "        print('No results')\n",
    "        pass\n"
   ]
  },
  {
   "cell_type": "markdown",
   "metadata": {},
   "source": [
    "### Summary: disinformation_propaganda"
   ]
  },
  {
   "cell_type": "code",
   "execution_count": 63,
   "metadata": {},
   "outputs": [
    {
     "name": "stdout",
     "output_type": "stream",
     "text": [
      "\n",
      "There are 7 records classified as disinformation_propaganda:\n",
      "\n",
      "     Country                                               Link\n",
      "32   Ukraine  https://www.buzzfeednews.com/article/christoph...\n",
      "33    Russia  https://www.theguardian.com/world/2020/mar/18/...\n",
      "36   Armenia  https://eurasianet.org/armenia-takes-hard-line...\n",
      "74        US  https://www.nytimes.com/2020/03/28/us/testing-...\n",
      "76        US  https://www.journalism.org/2020/03/18/american...\n",
      "167    China  https://www.propublica.org/article/how-china-b...\n",
      "170   Taiwan  https://bulletin.tfd.org.tw/tdb-vol-4-no-1-tai...\n",
      "\n",
      "Distribution by region\n"
     ]
    },
    {
     "data": {
      "image/png": "[encoded data removed]",
      "text/plain": [
       "<Figure size 576x360 with 1 Axes>"
      ]
     },
     "metadata": {
      "needs_background": "light"
     },
     "output_type": "display_data"
    }
   ],
   "source": [
    "filter_by_column(df, 'disinformation_propaganda')"
   ]
  },
  {
   "cell_type": "code",
   "execution_count": 64,
   "metadata": {},
   "outputs": [
    {
     "name": "stdout",
     "output_type": "stream",
     "text": [
      "\n",
      "There are 20 records classified as surveillance:\n",
      "\n",
      "          Country                                               Link\n",
      "1          Russia   https://news.trust.org/item/20200221114452-s7xez\n",
      "2          Israel  https://www.bloomberg.com/news/articles/2020-0...\n",
      "4              US  https://science.slashdot.org/story/20/03/17/21...\n",
      "5              US  https://www.technologyreview.com/s/615372/coro...\n",
      "7     South Korea  https://www.technologyreview.com/s/615329/coro...\n",
      "8     South Korea  https://www.washingtonpost.com/world/asia_paci...\n",
      "9     South Korea  https://www.wsj.com/articles/how-china-slowed-...\n",
      "11             US  https://www.wsj.com/articles/to-track-virus-go...\n",
      "13      Singapore  https://www.wsj.com/articles/how-china-slowed-...\n",
      "14         Taiwan  https://www.wsj.com/articles/how-china-slowed-...\n",
      "21        Bolivia  https://www.lavanguardia.com/politica/20200318...\n",
      "22         Brazil  https://www.uol.com.br/tilt/noticias/redacao/2...\n",
      "23         Poland  https://privacyinternational.org/examples/3473...\n",
      "24          Spain  https://www.forbes.com/sites/zakdoffman/2020/0...\n",
      "25         Russia  https://www.france24.com/en/20200324-100-000-c...\n",
      "26             US  https://www.forbes.com/sites/denizcam/2020/03/...\n",
      "27         Serbia  https://balkaninsight.com/2020/03/24/europes-o...\n",
      "28        Ecuador  https://twitter.com/usuariosdigital/status/124...\n",
      "30             UK  https://news.sky.com/story/coronavirus-govt-se...\n",
      "135  South Africa  https://www.bloomberg.com/news/articles/2020-0...\n",
      "\n",
      "Distribution by region\n"
     ]
    },
    {
     "data": {
      "image/png": "[encoded data removed]",
      "text/plain": [
       "<Figure size 576x360 with 1 Axes>"
      ]
     },
     "metadata": {
      "needs_background": "light"
     },
     "output_type": "display_data"
    }
   ],
   "source": [
    "filter_by_column(df, 'surveillance')"
   ]
  },
  {
   "cell_type": "code",
   "execution_count": 65,
   "metadata": {},
   "outputs": [
    {
     "name": "stdout",
     "output_type": "stream",
     "text": [
      "\n",
      "There are 31 records classified as false_news:\n",
      "\n",
      "                Country                                               Link\n",
      "25               Russia  https://www.france24.com/en/20200324-100-000-c...\n",
      "35              Hungary  https://www.nytimes.com/2020/03/30/world/europ...\n",
      "36              Armenia  https://eurasianet.org/armenia-takes-hard-line...\n",
      "48               Serbia  https://balkaninsight.com/2020/04/02/serbian-r...\n",
      "51               Russia  https://apnews.com/dbbf02a747b11d8ffe3b07d5e33...\n",
      "59              Moldova  https://balkaninsight.com/2020/03/31/battling-...\n",
      "98   Dominican Republic  https://listindiario.com/la-republica/2020/03/...\n",
      "108             Nigeria  https://www.legit.ng/1298893-coronavirus-court...\n",
      "109               Niger  https://twitter.com/CPJAfrica/status/123848961...\n",
      "110               Kenya  https://www.africanews.com/2020/03/16/media-wa...\n",
      "112        South Africa  https://twitter.com/Dariomilo/status/124038234...\n",
      "113               Kenya  https://www.nation.co.ke/news/Alai-faces-court...\n",
      "117            Tanzania                                       Jamii Forums\n",
      "120            Ethiopia  https://twitter.com/befeqe/status/124356075819...\n",
      "125            Zimbabwe  https://www.thestandard.co.zw/2020/03/29/20-ye...\n",
      "128        South Africa  https://www.gov.za/documents/disaster-manageme...\n",
      "146              Uganda  https://www.pmldaily.com/news/2020/03/pastor-y...\n",
      "147              Uganda  https://www.pmldaily.com/news/2020/03/breaking...\n",
      "151             Nigeria  https://www.premiumtimesng.com/news/top-news/3...\n",
      "153                Iran  https://twitter.com/article19iran/status/12318...\n",
      "154                Iran                                               Link\n",
      "155                Iran                                               Link\n",
      "156                Iran  https://twitter.com/Ahmadinejad1956/status/123...\n",
      "158                Iran                                               Link\n",
      "159                Iran                                                NaN\n",
      "168         Philippines  https://www.rappler.com/nation/255753-duterte-...\n",
      "169              Taiwan  https://news.cts.com.tw/cts/politics/202002/20...\n",
      "170              Taiwan  https://bulletin.tfd.org.tw/tdb-vol-4-no-1-tai...\n",
      "171           Singapore  https://www.straitstimes.com/politics/coronavi...\n",
      "182          Bangladesh  https://www.hrw.org/news/2020/03/31/bangladesh...\n",
      "184             Liberia  https://frontpageafricaonline.com/news/liberia...\n",
      "\n",
      "Distribution by region\n"
     ]
    },
    {
     "data": {
      "image/png": "[encoded data removed]",
      "text/plain": [
       "<Figure size 576x360 with 1 Axes>"
      ]
     },
     "metadata": {
      "needs_background": "light"
     },
     "output_type": "display_data"
    }
   ],
   "source": [
    "filter_by_column(df, 'false_news')"
   ]
  },
  {
   "cell_type": "code",
   "execution_count": 66,
   "metadata": {},
   "outputs": [
    {
     "name": "stdout",
     "output_type": "stream",
     "text": [
      "\n",
      "There are 2 records classified as disinformation_propaganda and false_news:\n",
      "\n",
      "     Country                                               Link\n",
      "36   Armenia  https://eurasianet.org/armenia-takes-hard-line...\n",
      "170   Taiwan  https://bulletin.tfd.org.tw/tdb-vol-4-no-1-tai...\n"
     ]
    }
   ],
   "source": [
    "# Filter data by two columns\n",
    "filter_by_two_columns(df, 'disinformation_propaganda', 'false_news')"
   ]
  },
  {
   "cell_type": "markdown",
   "metadata": {},
   "source": [
    "## Test: Clustering"
   ]
  },
  {
   "cell_type": "code",
   "execution_count": 67,
   "metadata": {},
   "outputs": [],
   "source": [
    "# columns with boolean values\n",
    "d = df[columns_to_boolean]\n"
   ]
  },
  {
   "cell_type": "code",
   "execution_count": 68,
   "metadata": {},
   "outputs": [
    {
     "data": {
      "image/png": "[encoded data removed]",
      "text/plain": [
       "<Figure size 432x288 with 1 Axes>"
      ]
     },
     "metadata": {
      "needs_background": "light"
     },
     "output_type": "display_data"
    }
   ],
   "source": [
    "# Determining the number of clusters in the dataset\n",
    "Sum_of_squared_distances = []\n",
    "K = range(1,15)\n",
    "for k in K:\n",
    "    km = KMeans(n_clusters=k)\n",
    "    km = km.fit(d)\n",
    "    Sum_of_squared_distances.append(km.inertia_)\n",
    "    \n",
    "plt.plot(K, Sum_of_squared_distances, 'bx-')\n",
    "plt.xlabel('k')\n",
    "plt.ylabel('Sum_of_squared_distances')\n",
    "plt.title('Elbow Method For Optimal k')\n",
    "plt.show()"
   ]
  },
  {
   "cell_type": "markdown",
   "metadata": {},
   "source": [
    "### Hierarchical clustering"
   ]
  },
  {
   "cell_type": "code",
   "execution_count": 76,
   "metadata": {},
   "outputs": [
    {
     "data": {
      "image/png": "[encoded data removed]",
      "text/plain": [
       "<Figure size 1440x504 with 1 Axes>"
      ]
     },
     "metadata": {
      "needs_background": "light"
     },
     "output_type": "display_data"
    }
   ],
   "source": [
    "plt.figure(figsize=(20, 7))  \n",
    "plt.title(\"Dendrograms\")  \n",
    "dend = shc.dendrogram(shc.linkage(d, method='ward'))"
   ]
  },
  {
   "cell_type": "markdown",
   "metadata": {},
   "source": [
    "### K-means clustering"
   ]
  },
  {
   "cell_type": "code",
   "execution_count": 70,
   "metadata": {},
   "outputs": [
    {
     "data": {
      "text/plain": [
       "KMeans(algorithm='auto', copy_x=True, init='k-means++', max_iter=300,\n",
       "       n_clusters=6, n_init=10, n_jobs=None, precompute_distances='auto',\n",
       "       random_state=None, tol=0.0001, verbose=0)"
      ]
     },
     "execution_count": 70,
     "metadata": {},
     "output_type": "execute_result"
    }
   ],
   "source": [
    "#Create clusters\n",
    "n = 6\n",
    "clusters = KMeans(n_clusters=n)\n",
    "\n",
    "# Fit clusterer\n",
    "clusters.fit(d)"
   ]
  },
  {
   "cell_type": "code",
   "execution_count": 71,
   "metadata": {},
   "outputs": [],
   "source": [
    "df['group'] = clusters.predict(d)"
   ]
  },
  {
   "cell_type": "code",
   "execution_count": 72,
   "metadata": {},
   "outputs": [
    {
     "data": {
      "text/plain": [
       "array([5, 0, 3, 1, 2, 4], dtype=int32)"
      ]
     },
     "execution_count": 72,
     "metadata": {},
     "output_type": "execute_result"
    }
   ],
   "source": [
    "df.group.unique()"
   ]
  },
  {
   "cell_type": "code",
   "execution_count": 73,
   "metadata": {},
   "outputs": [
    {
     "data": {
      "text/plain": [
       "3    94\n",
       "1    30\n",
       "2    20\n",
       "0    20\n",
       "5    16\n",
       "4     5\n",
       "Name: group, dtype: int64"
      ]
     },
     "execution_count": 73,
     "metadata": {},
     "output_type": "execute_result"
    }
   ],
   "source": [
    "df.group.value_counts()"
   ]
  },
  {
   "cell_type": "code",
   "execution_count": 74,
   "metadata": {},
   "outputs": [
    {
     "data": {
      "text/html": [
       "<div>\n",
       "<style scoped>\n",
       "    .dataframe tbody tr th:only-of-type {\n",
       "        vertical-align: middle;\n",
       "    }\n",
       "\n",
       "    .dataframe tbody tr th {\n",
       "        vertical-align: top;\n",
       "    }\n",
       "\n",
       "    .dataframe thead th {\n",
       "        text-align: right;\n",
       "    }\n",
       "</style>\n",
       "<table border=\"1\" class=\"dataframe\">\n",
       "  <thead>\n",
       "    <tr style=\"text-align: right;\">\n",
       "      <th></th>\n",
       "      <th>Region</th>\n",
       "      <th>Country</th>\n",
       "      <th>City, Region</th>\n",
       "      <th>Description</th>\n",
       "      <th>date</th>\n",
       "      <th>Link</th>\n",
       "      <th>false_news</th>\n",
       "      <th>detained</th>\n",
       "      <th>arrested</th>\n",
       "      <th>imprisoned</th>\n",
       "      <th>...</th>\n",
       "      <th>attacked</th>\n",
       "      <th>charged</th>\n",
       "      <th>online_harassment</th>\n",
       "      <th>threatened</th>\n",
       "      <th>death</th>\n",
       "      <th>surveillance</th>\n",
       "      <th>criminalization</th>\n",
       "      <th>disinformation_propaganda</th>\n",
       "      <th>Censorship</th>\n",
       "      <th>group</th>\n",
       "    </tr>\n",
       "  </thead>\n",
       "  <tbody>\n",
       "    <tr>\n",
       "      <th>49</th>\n",
       "      <td>ECA</td>\n",
       "      <td>Serbia</td>\n",
       "      <td>Belgrade</td>\n",
       "      <td>Government severly restricts flow of informati...</td>\n",
       "      <td>1.4.2020</td>\n",
       "      <td>https://balkaninsight.com/2020/04/01/serbian-g...</td>\n",
       "      <td>0</td>\n",
       "      <td>0</td>\n",
       "      <td>0</td>\n",
       "      <td>1</td>\n",
       "      <td>...</td>\n",
       "      <td>0</td>\n",
       "      <td>0</td>\n",
       "      <td>0</td>\n",
       "      <td>0</td>\n",
       "      <td>0</td>\n",
       "      <td>0</td>\n",
       "      <td></td>\n",
       "      <td>0</td>\n",
       "      <td>NaN</td>\n",
       "      <td>4</td>\n",
       "    </tr>\n",
       "    <tr>\n",
       "      <th>77</th>\n",
       "      <td>CSA</td>\n",
       "      <td>Venezuela</td>\n",
       "      <td>NaN</td>\n",
       "      <td>Socorro has been target of coordinated state t...</td>\n",
       "      <td>3.0.2020</td>\n",
       "      <td>https://twitter.com/MilagrosSocorro/status/123...</td>\n",
       "      <td>0</td>\n",
       "      <td>0</td>\n",
       "      <td>0</td>\n",
       "      <td>0</td>\n",
       "      <td>...</td>\n",
       "      <td>0</td>\n",
       "      <td>0</td>\n",
       "      <td>1</td>\n",
       "      <td>0</td>\n",
       "      <td>0</td>\n",
       "      <td>0</td>\n",
       "      <td>NaN</td>\n",
       "      <td>0</td>\n",
       "      <td>NaN</td>\n",
       "      <td>4</td>\n",
       "    </tr>\n",
       "    <tr>\n",
       "      <th>175</th>\n",
       "      <td>Asia</td>\n",
       "      <td>India</td>\n",
       "      <td>Hyderabad, Telangana</td>\n",
       "      <td>Police in Hyderabad also beat and insulted Men...</td>\n",
       "      <td>3.23.2020</td>\n",
       "      <td>https://www.siasat.com/journalist-unions-lodge...</td>\n",
       "      <td>0</td>\n",
       "      <td>0</td>\n",
       "      <td>0</td>\n",
       "      <td>1</td>\n",
       "      <td>...</td>\n",
       "      <td>0</td>\n",
       "      <td>0</td>\n",
       "      <td>1</td>\n",
       "      <td>0</td>\n",
       "      <td>0</td>\n",
       "      <td>0</td>\n",
       "      <td>NaN</td>\n",
       "      <td>0</td>\n",
       "      <td>NaN</td>\n",
       "      <td>4</td>\n",
       "    </tr>\n",
       "    <tr>\n",
       "      <th>176</th>\n",
       "      <td>Asia</td>\n",
       "      <td>India</td>\n",
       "      <td>Hyderabad, Telangana</td>\n",
       "      <td>Police in Hyderabad hit Mohammed Hussain, a re...</td>\n",
       "      <td>3.23.2020</td>\n",
       "      <td>https://twitter.com/writetohussain/status/1242...</td>\n",
       "      <td>0</td>\n",
       "      <td>0</td>\n",
       "      <td>0</td>\n",
       "      <td>1</td>\n",
       "      <td>...</td>\n",
       "      <td>0</td>\n",
       "      <td>0</td>\n",
       "      <td>1</td>\n",
       "      <td>0</td>\n",
       "      <td>0</td>\n",
       "      <td>0</td>\n",
       "      <td>NaN</td>\n",
       "      <td>0</td>\n",
       "      <td>NaN</td>\n",
       "      <td>4</td>\n",
       "    </tr>\n",
       "    <tr>\n",
       "      <th>179</th>\n",
       "      <td>Asia</td>\n",
       "      <td>India</td>\n",
       "      <td>Thane, Maharashtra</td>\n",
       "      <td>ETV deputy news editor Uttkarsh Chaturvedi was...</td>\n",
       "      <td>3.26.2020</td>\n",
       "      <td>https://www.rediff.com/news/report/tv-journali...</td>\n",
       "      <td>0</td>\n",
       "      <td>0</td>\n",
       "      <td>0</td>\n",
       "      <td>1</td>\n",
       "      <td>...</td>\n",
       "      <td>0</td>\n",
       "      <td>0</td>\n",
       "      <td>1</td>\n",
       "      <td>0</td>\n",
       "      <td>0</td>\n",
       "      <td>0</td>\n",
       "      <td>NaN</td>\n",
       "      <td>0</td>\n",
       "      <td>NaN</td>\n",
       "      <td>4</td>\n",
       "    </tr>\n",
       "  </tbody>\n",
       "</table>\n",
       "<p>5 rows × 22 columns</p>\n",
       "</div>"
      ],
      "text/plain": [
       "    Region     Country          City, Region  \\\n",
       "49      ECA     Serbia              Belgrade   \n",
       "77      CSA  Venezuela                   NaN   \n",
       "175    Asia      India  Hyderabad, Telangana   \n",
       "176    Asia      India  Hyderabad, Telangana   \n",
       "179    Asia      India    Thane, Maharashtra   \n",
       "\n",
       "                                           Description       date  \\\n",
       "49   Government severly restricts flow of informati...   1.4.2020   \n",
       "77   Socorro has been target of coordinated state t...   3.0.2020   \n",
       "175  Police in Hyderabad also beat and insulted Men...  3.23.2020   \n",
       "176  Police in Hyderabad hit Mohammed Hussain, a re...  3.23.2020   \n",
       "179  ETV deputy news editor Uttkarsh Chaturvedi was...  3.26.2020   \n",
       "\n",
       "                                                  Link  false_news  detained  \\\n",
       "49   https://balkaninsight.com/2020/04/01/serbian-g...           0         0   \n",
       "77   https://twitter.com/MilagrosSocorro/status/123...           0         0   \n",
       "175  https://www.siasat.com/journalist-unions-lodge...           0         0   \n",
       "176  https://twitter.com/writetohussain/status/1242...           0         0   \n",
       "179  https://www.rediff.com/news/report/tv-journali...           0         0   \n",
       "\n",
       "     arrested  imprisoned  ...  attacked  charged  online_harassment  \\\n",
       "49          0           1  ...         0        0                  0   \n",
       "77          0           0  ...         0        0                  1   \n",
       "175         0           1  ...         0        0                  1   \n",
       "176         0           1  ...         0        0                  1   \n",
       "179         0           1  ...         0        0                  1   \n",
       "\n",
       "     threatened  death  surveillance  criminalization  \\\n",
       "49            0      0             0                    \n",
       "77            0      0             0              NaN   \n",
       "175           0      0             0              NaN   \n",
       "176           0      0             0              NaN   \n",
       "179           0      0             0              NaN   \n",
       "\n",
       "     disinformation_propaganda Censorship  group  \n",
       "49                           0        NaN      4  \n",
       "77                           0        NaN      4  \n",
       "175                          0        NaN      4  \n",
       "176                          0        NaN      4  \n",
       "179                          0        NaN      4  \n",
       "\n",
       "[5 rows x 22 columns]"
      ]
     },
     "execution_count": 74,
     "metadata": {},
     "output_type": "execute_result"
    }
   ],
   "source": [
    "df[(df['group'] == 4)]"
   ]
  },
  {
   "cell_type": "code",
   "execution_count": null,
   "metadata": {},
   "outputs": [],
   "source": []
  }
 ],
 "metadata": {
  "kernelspec": {
   "display_name": "Python 3",
   "language": "python",
   "name": "python3"
  },
  "language_info": {
   "codemirror_mode": {
    "name": "ipython",
    "version": 3
   },
   "file_extension": ".py",
   "mimetype": "text/x-python",
   "name": "python",
   "nbconvert_exporter": "python",
   "pygments_lexer": "ipython3",
   "version": "3.7.5"
  }
 },
 "nbformat": 4,
 "nbformat_minor": 4
}
