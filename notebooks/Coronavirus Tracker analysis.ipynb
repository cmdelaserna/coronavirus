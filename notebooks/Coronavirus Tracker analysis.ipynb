{
 "cells": [
  {
   "cell_type": "code",
   "execution_count": 1,
   "metadata": {},
   "outputs": [],
   "source": [
    "import pandas as pd\n",
    "import matplotlib.pyplot as plt\n",
    "import numpy as np\n",
    "from sklearn.cluster import KMeans\n",
    "import scipy.cluster.hierarchy as shc"
   ]
  },
  {
   "cell_type": "markdown",
   "metadata": {},
   "source": [
    "### Importing data"
   ]
  },
  {
   "cell_type": "code",
   "execution_count": 2,
   "metadata": {},
   "outputs": [
    {
     "data": {
      "text/plain": [
       "(288, 24)"
      ]
     },
     "execution_count": 2,
     "metadata": {},
     "output_type": "execute_result"
    }
   ],
   "source": [
    "# Data exported as csv from a google spreadsheet\n",
    "df = pd.read_csv('data/april15-2020.csv')\n",
    "\n",
    "# Show 1st record\n",
    "# df.info()\n",
    "\n",
    "df.shape"
   ]
  },
  {
   "cell_type": "markdown",
   "metadata": {},
   "source": [
    "##  Cleaning dataset\n",
    "- Results by Region\n",
    "- Results by Country"
   ]
  },
  {
   "cell_type": "code",
   "execution_count": 3,
   "metadata": {},
   "outputs": [
    {
     "name": "stdout",
     "output_type": "stream",
     "text": [
      "Null records: 13\n"
     ]
    }
   ],
   "source": [
    "print('Null records: {}'.format(len(df[df['Region '].isnull()])))"
   ]
  },
  {
   "cell_type": "code",
   "execution_count": 4,
   "metadata": {},
   "outputs": [
    {
     "data": {
      "text/plain": [
       "array(['Africa', 'Africa ', 'Asia', 'Asia ', 'CSA', 'CSA ', 'ECA', 'MENA',\n",
       "       'North America'], dtype=object)"
      ]
     },
     "execution_count": 4,
     "metadata": {},
     "output_type": "execute_result"
    }
   ],
   "source": [
    "# Data cleaning: Region\n",
    "\n",
    "df = df[df['Region '].notna()]\n",
    "df['Region '].unique()"
   ]
  },
  {
   "cell_type": "code",
   "execution_count": 5,
   "metadata": {},
   "outputs": [
    {
     "data": {
      "text/plain": [
       "array(['Africa', 'Asia', 'CSA', 'ECA', 'MENA', 'North America'],\n",
       "      dtype=object)"
      ]
     },
     "execution_count": 5,
     "metadata": {},
     "output_type": "execute_result"
    }
   ],
   "source": [
    "# Clean Region column\n",
    "df['Region '].replace({'US':'North America'}, inplace=True)\n",
    "df['Region '].replace({'CSA ':'CSA'}, inplace=True)\n",
    "df['Region '].replace({'Asia ':'Asia'}, inplace=True)\n",
    "df['Region '].replace({'Africa ':'Africa'}, inplace=True)\n",
    "df['Region '].unique()"
   ]
  },
  {
   "cell_type": "code",
   "execution_count": 6,
   "metadata": {},
   "outputs": [
    {
     "data": {
      "text/plain": [
       "array(['Kenya', 'Nigeria', 'Niger', 'South Africa', 'Ethiopia', 'DRC',\n",
       "       'Nigeria ', 'Zimbabwe', 'Cameroon', 'Liberia ', 'Uganda',\n",
       "       'Liberia', 'Tanzania', 'Kenya ', 'Zambia', \"Cote d'Ivoire \",\n",
       "       'South Korea', 'South Korea ', 'Singapore ', 'Taiwan', 'India ',\n",
       "       'China ', 'India', 'Thailand', 'Nepal', 'Philippines ', 'Malaysia',\n",
       "       'New Zealand', 'Vietnam', 'Bangladesh ', 'Bolivia', 'Brazil',\n",
       "       'Ecuador', 'Colombia', 'Venezuela', 'Argentina', 'Venezuela ',\n",
       "       'Peru', 'Dominican Republic', 'Aruba', 'Dominican Republic ',\n",
       "       'Honduras', 'El Salvador', 'El Salvador ', 'Trinidad & Tobago',\n",
       "       'Cuba', 'Haiti', 'Turkey', 'Russia ', 'Austria', 'Italy', 'Poland',\n",
       "       'Spain', 'Serbia', 'UK', 'Slovenia', 'Ukraine ', 'Azerbaijan',\n",
       "       'Hungary', 'Armenia', 'Croatia', 'North Macedonia', 'Bulgaria',\n",
       "       'Bosnia', 'Moldova', 'Kosovo', 'Russian Federation', 'Iran',\n",
       "       'Iraq', 'Egypt', 'Jordan', 'Oman', 'Morocco', 'Iraqi Kurdistan',\n",
       "       'Iran ', 'Israel', 'U.S. ', 'US (Israeli company)', 'Canada'],\n",
       "      dtype=object)"
      ]
     },
     "execution_count": 6,
     "metadata": {},
     "output_type": "execute_result"
    }
   ],
   "source": [
    "df['Country'].unique()"
   ]
  },
  {
   "cell_type": "code",
   "execution_count": 7,
   "metadata": {},
   "outputs": [
    {
     "data": {
      "text/plain": [
       "False    275\n",
       "Name: Country, dtype: int64"
      ]
     },
     "execution_count": 7,
     "metadata": {},
     "output_type": "execute_result"
    }
   ],
   "source": [
    "# Data cleaning: countries\n",
    "df['Country'].isnull().value_counts()\n",
    "# df[df['Country'].isnull()]"
   ]
  },
  {
   "cell_type": "code",
   "execution_count": 8,
   "metadata": {},
   "outputs": [],
   "source": [
    "# If needed, edit specific cells with null values in the country column\n",
    "\n",
    "# df.iloc[11][1] = 'US'\n",
    "# df.iloc[11]"
   ]
  },
  {
   "cell_type": "code",
   "execution_count": 9,
   "metadata": {},
   "outputs": [
    {
     "name": "stdout",
     "output_type": "stream",
     "text": [
      "68\n",
      "['Argentina' 'Armenia' 'Aruba' 'Austria' 'Azerbaijan' 'Bangladesh'\n",
      " 'Bolivia' 'Bosnia' 'Brazil' 'Bulgaria' 'Cameroon' 'Canada' 'China'\n",
      " 'Colombia' \"Cote d'Ivoire\" 'Croatia' 'Cuba' 'DRC' 'Dominican Republic'\n",
      " 'Ecuador' 'Egypt' 'El Salvador' 'Ethiopia' 'Haiti' 'Honduras' 'Hungary'\n",
      " 'India' 'Iran' 'Iraq' 'Iraqi Kurdistan' 'Israel' 'Italy' 'Jordan' 'Kenya'\n",
      " 'Kosovo' 'Liberia' 'Malaysia' 'Moldova' 'Morocco' 'Nepal' 'New Zealand'\n",
      " 'Niger' 'Nigeria' 'North Macedonia' 'Oman' 'Peru' 'Philippines' 'Poland'\n",
      " 'Russia' 'Serbia' 'Singapore' 'Slovenia' 'South Africa' 'South Korea'\n",
      " 'Spain' 'Taiwan' 'Tanzania' 'Thailand' 'Trinidad & Tobago' 'Turkey' 'UK'\n",
      " 'US' 'Uganda' 'Ukraine' 'Venezuela' 'Vietnam' 'Zambia' 'Zimbabwe']\n"
     ]
    }
   ],
   "source": [
    "# Cleaning countries column\n",
    "df['Country'] = df['Country'].str.strip()\n",
    "\n",
    "df['Country'].replace({'U.S.':'US'}, inplace=True)\n",
    "df['Country'].replace({'US (Israeli company)':'US'}, inplace=True)\n",
    "df['Country'].replace({'Russian Federation':'Russia'}, inplace=True)\n",
    "\n",
    "list_countries = df['Country'].sort_values().unique()\n",
    "\n",
    "print(len(list_countries))\n",
    "print(df['Country'].sort_values().unique())"
   ]
  },
  {
   "cell_type": "markdown",
   "metadata": {},
   "source": [
    "### Cleaned data summary: Region"
   ]
  },
  {
   "cell_type": "code",
   "execution_count": 10,
   "metadata": {},
   "outputs": [
    {
     "name": "stdout",
     "output_type": "stream",
     "text": [
      "275 valid records. Distribution by region:\n"
     ]
    },
    {
     "data": {
      "image/png": "[encoded data removed]",
      "text/plain": [
       "<Figure size 576x360 with 1 Axes>"
      ]
     },
     "metadata": {
      "needs_background": "light"
     },
     "output_type": "display_data"
    }
   ],
   "source": [
    "# Number of entries by region\n",
    "df['Region '] = df['Region '].str.strip()\n",
    "df['Region '].value_counts().sort_values().plot(kind='barh', figsize=(8,5))\n",
    "print('{} valid records. Distribution by region:'.format(df['Region '].count()))"
   ]
  },
  {
   "cell_type": "markdown",
   "metadata": {},
   "source": [
    "### Cleaned data summary: Countries"
   ]
  },
  {
   "cell_type": "code",
   "execution_count": 11,
   "metadata": {},
   "outputs": [
    {
     "name": "stdout",
     "output_type": "stream",
     "text": [
      "List of 9 countries out of 68 with more than 5 record in the database\n"
     ]
    },
    {
     "data": {
      "image/png": "[encoded data removed]",
      "text/plain": [
       "<Figure size 576x360 with 1 Axes>"
      ]
     },
     "metadata": {
      "needs_background": "light"
     },
     "output_type": "display_data"
    }
   ],
   "source": [
    "# Number of entries by country\n",
    "countries = df['Country'].value_counts().sort_values(ascending = False)\n",
    "\n",
    "i = 5\n",
    "\n",
    "top_countries = countries[countries > i].sort_values()\n",
    "\n",
    "top_countries.plot(kind='barh', figsize=(8,5))\n",
    "print('List of {} countries out of {} with more than {} record in the database'.format(len(top_countries), len(list_countries), i))"
   ]
  },
  {
   "cell_type": "markdown",
   "metadata": {},
   "source": [
    "### Columns formatting"
   ]
  },
  {
   "cell_type": "code",
   "execution_count": 12,
   "metadata": {},
   "outputs": [
    {
     "data": {
      "text/plain": [
       "Index(['Region ', 'Country', 'City, Region', 'Description', 'date', 'Link',\n",
       "       'false_news', 'detained', 'arrested', 'imprisoned', 'access_denied',\n",
       "       'chilling_statement', 'attacked', 'charged', 'online_harassment',\n",
       "       'threatened', 'death', 'surveillance', 'New law or amendment Y/N',\n",
       "       'disinformation_propaganda', 'Censorship', 'Print Media',\n",
       "       'layoffs/furloughs/closures/salary cuts', 'Prisoner released Y/N'],\n",
       "      dtype='object')"
      ]
     },
     "execution_count": 12,
     "metadata": {},
     "output_type": "execute_result"
    }
   ],
   "source": [
    "# Rename columns\n",
    "df.rename(columns={\"Date (M.DD.Y)\": \"date\", \n",
    "                   \"Mention or use of false news measure (Y/N)\": \"false_news\",\n",
    "                   \"Detained (Y/N)\": \"detained\",\n",
    "                   \"Arrested (Y/N) \": \"arrested\",\n",
    "                   \"Imprisoned (Y/N) \": \"imprisoned\",\n",
    "                   \"Access Denied (Y/N)\": \"access_denied\",\n",
    "                   \"Chilling Statement (Y/N)\": \"chilling_statement\",\n",
    "                   \"Attacked (Y/N)\": \"attacked\",\n",
    "                   \"Charged (Y/N) \": \"charged\",\n",
    "                   \"Online Harassment (Y/N)\": \"online_harassment\",\n",
    "                   \"Threatened (Y/N)\": \"threatened\",\n",
    "                   \"Death (Y/N)\": \"death\",\n",
    "                   \"Criminalization: type of new or amended law (please specify)\": \"criminalization\",\n",
    "                   \"Surveillance (Y/N)\" : 'surveillance',\n",
    "                   \"Disinformation or propaganda (Y/N)\": \"disinformation_propaganda\"}, inplace=True)\n",
    "\n",
    "df.columns"
   ]
  },
  {
   "cell_type": "code",
   "execution_count": 13,
   "metadata": {},
   "outputs": [],
   "source": [
    "# List of columns to boolean\n",
    "columns_to_boolean = ['false_news', \n",
    "                      'detained', \n",
    "                      'arrested', \n",
    "                      'imprisoned', \n",
    "                      'access_denied',\n",
    "                      'chilling_statement',\n",
    "                      'attacked',\n",
    "                      'charged',\n",
    "                      'online_harassment',\n",
    "                      'threatened',\n",
    "                      'death',\n",
    "                      'surveillance',\n",
    "                      'disinformation_propaganda']"
   ]
  },
  {
   "cell_type": "code",
   "execution_count": 14,
   "metadata": {},
   "outputs": [],
   "source": [
    "def check_uniques_boolean(data, cols):\n",
    "    for i in cols:\n",
    "        print('{} : {} ({})'.format(i, data[i].nunique(), data[i].unique()))"
   ]
  },
  {
   "cell_type": "code",
   "execution_count": 15,
   "metadata": {},
   "outputs": [
    {
     "name": "stdout",
     "output_type": "stream",
     "text": [
      "false_news : 1 ([nan 'Y'])\n",
      "detained : 3 ([nan 'Y' 'N' 'y'])\n",
      "arrested : 2 ([nan 'Y' 'N'])\n",
      "imprisoned : 2 ([nan 'N' 'Y'])\n",
      "access_denied : 2 ([nan 'N' 'Y'])\n",
      "chilling_statement : 3 ([nan 'N' 'Y' 'y'])\n",
      "attacked : 2 ([nan 'Y' 'N'])\n",
      "charged : 2 ([nan 'Y' 'N'])\n",
      "online_harassment : 2 ([nan 'N' 'Y'])\n",
      "threatened : 3 ([nan 'Y' 'N' 'y'])\n",
      "death : 2 ([nan 'N' 'Y'])\n",
      "surveillance : 3 (['Y' nan 'N' 'Y '])\n",
      "disinformation_propaganda : 4 ([nan '?' 'N' 'Y' 'y'])\n"
     ]
    }
   ],
   "source": [
    "check_uniques_boolean(df, columns_to_boolean)"
   ]
  },
  {
   "cell_type": "code",
   "execution_count": 16,
   "metadata": {
    "scrolled": false
   },
   "outputs": [
    {
     "name": "stdout",
     "output_type": "stream",
     "text": [
      "false_news : 1 ([nan 'Y'])\n",
      "detained : 2 ([nan 'Y' 'N'])\n",
      "arrested : 2 ([nan 'Y' 'N'])\n",
      "imprisoned : 2 ([nan 'N' 'Y'])\n",
      "access_denied : 2 ([nan 'N' 'Y'])\n",
      "chilling_statement : 2 ([nan 'N' 'Y'])\n",
      "attacked : 2 ([nan 'Y' 'N'])\n",
      "charged : 2 ([nan 'Y' 'N'])\n",
      "online_harassment : 2 ([nan 'N' 'Y'])\n",
      "threatened : 2 ([nan 'Y' 'N'])\n",
      "death : 2 ([nan 'N' 'Y'])\n",
      "surveillance : 2 (['Y' nan 'N'])\n",
      "disinformation_propaganda : 2 ([nan 'N' 'Y'])\n"
     ]
    }
   ],
   "source": [
    "for i in columns_to_boolean:\n",
    "    #replace values\n",
    "    df[i] = df[i].str.strip()\n",
    "    df[i].replace({'y':'Y'}, inplace=True)\n",
    "    df[i].replace({'Y(?)':'Y'}, inplace=True)\n",
    "    df[i].replace({'Y(?)':'Y'}, inplace=True)\n",
    "    df[i].replace({'?':'N'}, inplace=True)\n",
    "    \n",
    "# check again for uniques\n",
    "check_uniques_boolean(df, columns_to_boolean)\n",
    "    "
   ]
  },
  {
   "cell_type": "code",
   "execution_count": 17,
   "metadata": {},
   "outputs": [
    {
     "data": {
      "text/plain": [
       "false_news                   2\n",
       "detained                     2\n",
       "arrested                     2\n",
       "imprisoned                   2\n",
       "access_denied                2\n",
       "chilling_statement           2\n",
       "attacked                     2\n",
       "charged                      2\n",
       "online_harassment            2\n",
       "threatened                   2\n",
       "death                        2\n",
       "surveillance                 2\n",
       "disinformation_propaganda    2\n",
       "dtype: int64"
      ]
     },
     "execution_count": 17,
     "metadata": {},
     "output_type": "execute_result"
    }
   ],
   "source": [
    "# Make columns boolean: 1/0\n",
    "for i in columns_to_boolean:\n",
    "    df[i] = df[i].apply(lambda x: 1 if x =='Y' else 0).astype('int32')\n",
    "    \n",
    "df[columns_to_boolean].nunique()"
   ]
  },
  {
   "cell_type": "code",
   "execution_count": 18,
   "metadata": {},
   "outputs": [],
   "source": [
    "# PENDING: dates formatting\n",
    "# df.date.unique()"
   ]
  },
  {
   "cell_type": "markdown",
   "metadata": {},
   "source": [
    "### Sumary: additional classification"
   ]
  },
  {
   "cell_type": "code",
   "execution_count": 19,
   "metadata": {},
   "outputs": [
    {
     "data": {
      "text/plain": [
       "false_news                   36\n",
       "surveillance                 26\n",
       "detained                     25\n",
       "threatened                   22\n",
       "attacked                     22\n",
       "chilling_statement           18\n",
       "arrested                     16\n",
       "access_denied                11\n",
       "disinformation_propaganda     9\n",
       "online_harassment             8\n",
       "charged                       7\n",
       "imprisoned                    4\n",
       "death                         1\n",
       "Name: 1, dtype: int64"
      ]
     },
     "execution_count": 19,
     "metadata": {},
     "output_type": "execute_result"
    }
   ],
   "source": [
    "#Summary of values in boolean columns\n",
    "tags = df[columns_to_boolean].apply(pd.Series.value_counts).T\n",
    "tags[1].sort_values(ascending = False)"
   ]
  },
  {
   "cell_type": "code",
   "execution_count": 20,
   "metadata": {},
   "outputs": [
    {
     "name": "stdout",
     "output_type": "stream",
     "text": [
      "Number of records with additional classification:\n"
     ]
    },
    {
     "data": {
      "text/plain": [
       "<matplotlib.axes._subplots.AxesSubplot at 0x11e8a8950>"
      ]
     },
     "execution_count": 20,
     "metadata": {},
     "output_type": "execute_result"
    },
    {
     "data": {
      "image/png": "[encoded data removed]",
      "text/plain": [
       "<Figure size 576x360 with 1 Axes>"
      ]
     },
     "metadata": {
      "needs_background": "light"
     },
     "output_type": "display_data"
    }
   ],
   "source": [
    "#Summary of values in boolean columns\n",
    "tags = df[columns_to_boolean].apply(pd.Series.value_counts).T\n",
    "print(\"Number of records with additional classification:\")\n",
    "tags[1].sort_values(ascending = False)\n",
    "tags[1].sort_values(ascending = False).sort_values().plot(kind='barh', figsize=(8,5))"
   ]
  },
  {
   "cell_type": "code",
   "execution_count": 21,
   "metadata": {},
   "outputs": [
    {
     "data": {
      "text/plain": [
       "<matplotlib.axes._subplots.AxesSubplot at 0x11e9f17d0>"
      ]
     },
     "execution_count": 21,
     "metadata": {},
     "output_type": "execute_result"
    },
    {
     "data": {
      "image/png": "[encoded data removed]",
      "text/plain": [
       "<Figure size 576x360 with 1 Axes>"
      ]
     },
     "metadata": {
      "needs_background": "light"
     },
     "output_type": "display_data"
    }
   ],
   "source": [
    "regions_false_news = df.loc[df['false_news'] == 1]\n",
    "\n",
    "regions_false_news.groupby(['Region '])['false_news'].count().sort_values().plot(kind='barh', figsize=(8,5))"
   ]
  },
  {
   "cell_type": "markdown",
   "metadata": {},
   "source": [
    "## Functions\n",
    "- Filter by one or two columns, print summary data & table\n",
    "- Calculate all combinations of boolean variables"
   ]
  },
  {
   "cell_type": "code",
   "execution_count": 22,
   "metadata": {},
   "outputs": [],
   "source": [
    "# Filter data by one column\n",
    "def filter_by_column(data, col):\n",
    "    table = data.loc[data[col] == 1]\n",
    "    \n",
    "#     pd.set_option('display.max_colwidth', -1)\n",
    "    \n",
    "    print('\\nThere are {} records classified as {}:\\n'.format(len(table), col))\n",
    "    print(table[['Country', 'Link']])\n",
    "    \n",
    "    print('\\nDistribution by region')\n",
    "    table['Region '].value_counts().plot(kind='barh', figsize=(8,5))\n",
    "    "
   ]
  },
  {
   "cell_type": "code",
   "execution_count": 23,
   "metadata": {},
   "outputs": [],
   "source": [
    "# Filter data by two columns\n",
    "def filter_by_two_columns(data, col1, col2):\n",
    "    table = data.loc[(data[col1] == 1) & (data[col2] == 1)]\n",
    "    try:\n",
    "        print('\\nThere are {} records classified as {} and {}:\\n'.format(len(table), col1, col2))\n",
    "        print(table[['Country', 'Link']])  \n",
    "#         print('\\nDistribution by country')\n",
    "#         table['Country'].value_counts().plot(kind='barh', figsize=(10,5))\n",
    "    \n",
    "    except IndexError:\n",
    "        print('No results')\n",
    "        pass\n"
   ]
  },
  {
   "cell_type": "markdown",
   "metadata": {},
   "source": [
    "### Summary: disinformation_propaganda"
   ]
  },
  {
   "cell_type": "code",
   "execution_count": 24,
   "metadata": {},
   "outputs": [
    {
     "name": "stdout",
     "output_type": "stream",
     "text": [
      "\n",
      "There are 9 records classified as disinformation_propaganda:\n",
      "\n",
      "     Country                                               Link\n",
      "59     China  https://www.propublica.org/article/how-china-b...\n",
      "64    Taiwan  https://bulletin.tfd.org.tw/tdb-vol-4-no-1-tai...\n",
      "85   Bolivia  https://www.lavanguardia.com/politica/20200318...\n",
      "135  Ukraine  https://www.buzzfeednews.com/article/christoph...\n",
      "136   Russia  https://www.theguardian.com/world/2020/mar/18/...\n",
      "139  Armenia  https://eurasianet.org/armenia-takes-hard-line...\n",
      "202       US  https://apnews.com/7edbc93627b1040a422f2d07f50...\n",
      "214       US  https://www.journalism.org/2020/03/18/american...\n",
      "239       US  https://www.nytimes.com/2020/03/28/us/testing-...\n",
      "\n",
      "Distribution by region\n"
     ]
    },
    {
     "data": {
      "image/png": "[encoded data removed]",
      "text/plain": [
       "<Figure size 576x360 with 1 Axes>"
      ]
     },
     "metadata": {
      "needs_background": "light"
     },
     "output_type": "display_data"
    }
   ],
   "source": [
    "filter_by_column(df, 'disinformation_propaganda')"
   ]
  },
  {
   "cell_type": "code",
   "execution_count": 25,
   "metadata": {},
   "outputs": [
    {
     "name": "stdout",
     "output_type": "stream",
     "text": [
      "\n",
      "There are 26 records classified as surveillance:\n",
      "\n",
      "          Country                                               Link\n",
      "0           Kenya  https://www.standardmedia.co.ke/article/200136...\n",
      "1           Kenya  https://www.standardmedia.co.ke/health/article...\n",
      "47   South Africa  https://www.bloomberg.com/news/articles/2020-0...\n",
      "50    South Korea  https://www.technologyreview.com/s/615329/coro...\n",
      "51    South Korea  https://www.washingtonpost.com/world/asia_paci...\n",
      "52    South Korea  https://www.wsj.com/articles/how-china-slowed-...\n",
      "55      Singapore  https://www.wsj.com/articles/how-china-slowed-...\n",
      "56         Taiwan  https://www.wsj.com/articles/how-china-slowed-...\n",
      "57          India  https://www.huffingtonpost.in/entry/aarogya-se...\n",
      "85        Bolivia  https://www.lavanguardia.com/politica/20200318...\n",
      "86         Brazil  https://www.uol.com.br/tilt/noticias/redacao/2...\n",
      "87        Ecuador  https://twitter.com/usuariosdigital/status/124...\n",
      "120      Honduras  https://www.coindesk.com/as-governments-rush-t...\n",
      "126        Russia   https://news.trust.org/item/20200221114452-s7xez\n",
      "129        Poland  https://privacyinternational.org/examples/3473...\n",
      "130         Spain  https://www.forbes.com/sites/zakdoffman/2020/0...\n",
      "131        Russia  https://www.france24.com/en/20200324-100-000-c...\n",
      "132        Serbia  https://balkaninsight.com/2020/03/24/europes-o...\n",
      "133            UK  https://news.sky.com/story/coronavirus-govt-se...\n",
      "189        Israel  https://www.bloomberg.com/news/articles/2020-0...\n",
      "190          Iran  https://www.zdnet.com/article/spying-concerns-...\n",
      "206            US  https://science.slashdot.org/story/20/03/17/21...\n",
      "207            US  https://www.forbes.com/sites/denizcam/2020/03/...\n",
      "266            US  https://www.8newsnow.com/coronavirus/i-team-sn...\n",
      "267            US  https://www.technologyreview.com/s/615372/coro...\n",
      "270            US  https://www.wsj.com/articles/to-track-virus-go...\n",
      "\n",
      "Distribution by region\n"
     ]
    },
    {
     "data": {
      "image/png": "[encoded data removed]",
      "text/plain": [
       "<Figure size 576x360 with 1 Axes>"
      ]
     },
     "metadata": {
      "needs_background": "light"
     },
     "output_type": "display_data"
    }
   ],
   "source": [
    "filter_by_column(df, 'surveillance')"
   ]
  },
  {
   "cell_type": "code",
   "execution_count": 26,
   "metadata": {},
   "outputs": [
    {
     "name": "stdout",
     "output_type": "stream",
     "text": [
      "\n",
      "There are 36 records classified as false_news:\n",
      "\n",
      "                Country                                               Link\n",
      "2               Nigeria  https://www.legit.ng/1298893-coronavirus-court...\n",
      "3                 Niger  https://twitter.com/CPJAfrica/status/123848961...\n",
      "4                 Kenya  https://www.africanews.com/2020/03/16/media-wa...\n",
      "6          South Africa  https://twitter.com/Dariomilo/status/124038234...\n",
      "7                 Kenya  https://www.nation.co.ke/news/Alai-faces-court...\n",
      "13             Ethiopia  https://twitter.com/befeqe/status/124356075819...\n",
      "15             Zimbabwe  https://www.thestandard.co.zw/2020/03/29/20-ye...\n",
      "28               Uganda  https://www.pmldaily.com/news/2020/03/breaking...\n",
      "32              Nigeria  https://www.premiumtimesng.com/news/top-news/3...\n",
      "34              Liberia  https://frontpageafricaonline.com/news/liberia...\n",
      "35             Tanzania                                       Jamii Forums\n",
      "42         South Africa  https://www.gov.za/documents/disaster-manageme...\n",
      "48               Uganda  https://www.pmldaily.com/news/2020/03/pastor-y...\n",
      "63               Taiwan  https://news.cts.com.tw/cts/politics/202002/20...\n",
      "64               Taiwan  https://bulletin.tfd.org.tw/tdb-vol-4-no-1-tai...\n",
      "74          Philippines  https://www.rappler.com/nation/255753-duterte-...\n",
      "76            Singapore  https://www.straitstimes.com/politics/coronavi...\n",
      "83              Vietnam  https://www.reuters.com/article/us-health-coro...\n",
      "84           Bangladesh  https://www.hrw.org/news/2020/03/31/bangladesh...\n",
      "109  Dominican Republic  https://listindiario.com/la-republica/2020/03/...\n",
      "131              Russia  https://www.france24.com/en/20200324-100-000-c...\n",
      "135             Ukraine  https://www.buzzfeednews.com/article/christoph...\n",
      "138             Hungary  https://www.nytimes.com/2020/03/30/world/europ...\n",
      "139             Armenia  https://eurasianet.org/armenia-takes-hard-line...\n",
      "151              Serbia  https://balkaninsight.com/2020/04/02/serbian-r...\n",
      "154              Russia  https://apnews.com/dbbf02a747b11d8ffe3b07d5e33...\n",
      "162             Moldova  https://balkaninsight.com/2020/03/31/battling-...\n",
      "170                Iran  https://twitter.com/article19iran/status/12318...\n",
      "171                Iran                                                NaN\n",
      "174                Iran  https://twitter.com/Ahmadinejad1956/status/123...\n",
      "176                Iran                                               Link\n",
      "177                Iran                                               Link\n",
      "178                Iran                                               Link\n",
      "264                  US  https://www.miamiherald.com/news/nation-world/...\n",
      "275              Turkey  https://www.evrensel.net/haber/401751/rizede-3...\n",
      "282              Turkey  https://bianet.org/5/94/222895-president-erdog...\n",
      "\n",
      "Distribution by region\n"
     ]
    },
    {
     "data": {
      "image/png": "[encoded data removed]",
      "text/plain": [
       "<Figure size 576x360 with 1 Axes>"
      ]
     },
     "metadata": {
      "needs_background": "light"
     },
     "output_type": "display_data"
    }
   ],
   "source": [
    "filter_by_column(df, 'false_news')"
   ]
  },
  {
   "cell_type": "code",
   "execution_count": 27,
   "metadata": {},
   "outputs": [
    {
     "name": "stdout",
     "output_type": "stream",
     "text": [
      "\n",
      "There are 3 records classified as disinformation_propaganda and false_news:\n",
      "\n",
      "     Country                                               Link\n",
      "64    Taiwan  https://bulletin.tfd.org.tw/tdb-vol-4-no-1-tai...\n",
      "135  Ukraine  https://www.buzzfeednews.com/article/christoph...\n",
      "139  Armenia  https://eurasianet.org/armenia-takes-hard-line...\n"
     ]
    }
   ],
   "source": [
    "# Filter data by two columns\n",
    "filter_by_two_columns(df, 'disinformation_propaganda', 'false_news')"
   ]
  },
  {
   "cell_type": "markdown",
   "metadata": {},
   "source": [
    "## Test: Clustering"
   ]
  },
  {
   "cell_type": "code",
   "execution_count": 28,
   "metadata": {},
   "outputs": [],
   "source": [
    "# columns with boolean values\n",
    "d = df[columns_to_boolean]\n"
   ]
  },
  {
   "cell_type": "code",
   "execution_count": 29,
   "metadata": {},
   "outputs": [
    {
     "data": {
      "image/png": "[encoded data removed]",
      "text/plain": [
       "<Figure size 432x288 with 1 Axes>"
      ]
     },
     "metadata": {
      "needs_background": "light"
     },
     "output_type": "display_data"
    }
   ],
   "source": [
    "# Determining the number of clusters in the dataset\n",
    "Sum_of_squared_distances = []\n",
    "K = range(1,15)\n",
    "for k in K:\n",
    "    km = KMeans(n_clusters=k)\n",
    "    km = km.fit(d)\n",
    "    Sum_of_squared_distances.append(km.inertia_)\n",
    "    \n",
    "plt.plot(K, Sum_of_squared_distances, 'bx-')\n",
    "plt.xlabel('k')\n",
    "plt.ylabel('Sum_of_squared_distances')\n",
    "plt.title('Elbow Method For Optimal k')\n",
    "plt.show()"
   ]
  },
  {
   "cell_type": "markdown",
   "metadata": {},
   "source": [
    "### Hierarchical clustering"
   ]
  },
  {
   "cell_type": "code",
   "execution_count": 30,
   "metadata": {},
   "outputs": [
    {
     "data": {
      "image/png": "[encoded data removed]",
      "text/plain": [
       "<Figure size 1440x504 with 1 Axes>"
      ]
     },
     "metadata": {
      "needs_background": "light"
     },
     "output_type": "display_data"
    }
   ],
   "source": [
    "plt.figure(figsize=(20, 7))  \n",
    "plt.title(\"Dendrograms\")  \n",
    "dend = shc.dendrogram(shc.linkage(d, method='ward'))"
   ]
  },
  {
   "cell_type": "markdown",
   "metadata": {},
   "source": [
    "### K-means clustering"
   ]
  },
  {
   "cell_type": "code",
   "execution_count": 31,
   "metadata": {},
   "outputs": [
    {
     "data": {
      "text/plain": [
       "KMeans(algorithm='auto', copy_x=True, init='k-means++', max_iter=300,\n",
       "       n_clusters=6, n_init=10, n_jobs=None, precompute_distances='auto',\n",
       "       random_state=None, tol=0.0001, verbose=0)"
      ]
     },
     "execution_count": 31,
     "metadata": {},
     "output_type": "execute_result"
    }
   ],
   "source": [
    "#Create clusters\n",
    "n = 6\n",
    "clusters = KMeans(n_clusters=n)\n",
    "\n",
    "# Fit clusterer\n",
    "clusters.fit(d)"
   ]
  },
  {
   "cell_type": "code",
   "execution_count": 32,
   "metadata": {},
   "outputs": [],
   "source": [
    "df['group'] = clusters.predict(d)"
   ]
  },
  {
   "cell_type": "code",
   "execution_count": 33,
   "metadata": {},
   "outputs": [
    {
     "data": {
      "text/plain": [
       "array([2, 4, 3, 1, 0, 5], dtype=int32)"
      ]
     },
     "execution_count": 33,
     "metadata": {},
     "output_type": "execute_result"
    }
   ],
   "source": [
    "df.group.unique()"
   ]
  },
  {
   "cell_type": "code",
   "execution_count": 34,
   "metadata": {},
   "outputs": [
    {
     "data": {
      "text/plain": [
       "<matplotlib.axes._subplots.AxesSubplot at 0x11f0ba850>"
      ]
     },
     "execution_count": 34,
     "metadata": {},
     "output_type": "execute_result"
    },
    {
     "data": {
      "image/png": "[encoded data removed]",
      "text/plain": [
       "<Figure size 720x360 with 1 Axes>"
      ]
     },
     "metadata": {
      "needs_background": "light"
     },
     "output_type": "display_data"
    }
   ],
   "source": [
    "df.group.value_counts().plot(kind='barh', figsize=(10,5))"
   ]
  },
  {
   "cell_type": "code",
   "execution_count": 35,
   "metadata": {},
   "outputs": [
    {
     "data": {
      "text/html": [
       "<div>\n",
       "<style scoped>\n",
       "    .dataframe tbody tr th:only-of-type {\n",
       "        vertical-align: middle;\n",
       "    }\n",
       "\n",
       "    .dataframe tbody tr th {\n",
       "        vertical-align: top;\n",
       "    }\n",
       "\n",
       "    .dataframe thead th {\n",
       "        text-align: right;\n",
       "    }\n",
       "</style>\n",
       "<table border=\"1\" class=\"dataframe\">\n",
       "  <thead>\n",
       "    <tr style=\"text-align: right;\">\n",
       "      <th></th>\n",
       "      <th>Region</th>\n",
       "      <th>Country</th>\n",
       "      <th>City, Region</th>\n",
       "      <th>Description</th>\n",
       "      <th>date</th>\n",
       "      <th>Link</th>\n",
       "      <th>false_news</th>\n",
       "      <th>detained</th>\n",
       "      <th>arrested</th>\n",
       "      <th>imprisoned</th>\n",
       "      <th>...</th>\n",
       "      <th>threatened</th>\n",
       "      <th>death</th>\n",
       "      <th>surveillance</th>\n",
       "      <th>New law or amendment Y/N</th>\n",
       "      <th>disinformation_propaganda</th>\n",
       "      <th>Censorship</th>\n",
       "      <th>Print Media</th>\n",
       "      <th>layoffs/furloughs/closures/salary cuts</th>\n",
       "      <th>Prisoner released Y/N</th>\n",
       "      <th>group</th>\n",
       "    </tr>\n",
       "  </thead>\n",
       "  <tbody>\n",
       "    <tr>\n",
       "      <th>67</th>\n",
       "      <td>Asia</td>\n",
       "      <td>India</td>\n",
       "      <td>Hyderabad, Telangana</td>\n",
       "      <td>Police in Hyderabad also beat and insulted Men...</td>\n",
       "      <td>3.23.2020</td>\n",
       "      <td>https://www.siasat.com/journalist-unions-lodge...</td>\n",
       "      <td>0</td>\n",
       "      <td>0</td>\n",
       "      <td>0</td>\n",
       "      <td>1</td>\n",
       "      <td>...</td>\n",
       "      <td>0</td>\n",
       "      <td>0</td>\n",
       "      <td>0</td>\n",
       "      <td>NaN</td>\n",
       "      <td>0</td>\n",
       "      <td>NaN</td>\n",
       "      <td>NaN</td>\n",
       "      <td>NaN</td>\n",
       "      <td>NaN</td>\n",
       "      <td>0</td>\n",
       "    </tr>\n",
       "    <tr>\n",
       "      <th>68</th>\n",
       "      <td>Asia</td>\n",
       "      <td>India</td>\n",
       "      <td>Hyderabad, Telangana</td>\n",
       "      <td>Police in Hyderabad hit Mohammed Hussain, a re...</td>\n",
       "      <td>3.23.2020</td>\n",
       "      <td>https://twitter.com/writetohussain/status/1242...</td>\n",
       "      <td>0</td>\n",
       "      <td>0</td>\n",
       "      <td>0</td>\n",
       "      <td>1</td>\n",
       "      <td>...</td>\n",
       "      <td>0</td>\n",
       "      <td>0</td>\n",
       "      <td>0</td>\n",
       "      <td>NaN</td>\n",
       "      <td>0</td>\n",
       "      <td>NaN</td>\n",
       "      <td>NaN</td>\n",
       "      <td>NaN</td>\n",
       "      <td>NaN</td>\n",
       "      <td>0</td>\n",
       "    </tr>\n",
       "    <tr>\n",
       "      <th>70</th>\n",
       "      <td>Asia</td>\n",
       "      <td>India</td>\n",
       "      <td>Thane, Maharashtra</td>\n",
       "      <td>ETV deputy news editor Uttkarsh Chaturvedi was...</td>\n",
       "      <td>3.26.2020</td>\n",
       "      <td>https://www.rediff.com/news/report/tv-journali...</td>\n",
       "      <td>0</td>\n",
       "      <td>0</td>\n",
       "      <td>0</td>\n",
       "      <td>1</td>\n",
       "      <td>...</td>\n",
       "      <td>0</td>\n",
       "      <td>0</td>\n",
       "      <td>0</td>\n",
       "      <td>NaN</td>\n",
       "      <td>0</td>\n",
       "      <td>NaN</td>\n",
       "      <td>NaN</td>\n",
       "      <td>NaN</td>\n",
       "      <td>NaN</td>\n",
       "      <td>0</td>\n",
       "    </tr>\n",
       "    <tr>\n",
       "      <th>89</th>\n",
       "      <td>CSA</td>\n",
       "      <td>Venezuela</td>\n",
       "      <td>NaN</td>\n",
       "      <td>Socorro has been target of coordinated state t...</td>\n",
       "      <td>3.0.2020</td>\n",
       "      <td>https://twitter.com/MilagrosSocorro/status/123...</td>\n",
       "      <td>0</td>\n",
       "      <td>0</td>\n",
       "      <td>0</td>\n",
       "      <td>0</td>\n",
       "      <td>...</td>\n",
       "      <td>0</td>\n",
       "      <td>0</td>\n",
       "      <td>0</td>\n",
       "      <td>NaN</td>\n",
       "      <td>0</td>\n",
       "      <td>NaN</td>\n",
       "      <td>NaN</td>\n",
       "      <td>NaN</td>\n",
       "      <td>NaN</td>\n",
       "      <td>0</td>\n",
       "    </tr>\n",
       "    <tr>\n",
       "      <th>152</th>\n",
       "      <td>ECA</td>\n",
       "      <td>Serbia</td>\n",
       "      <td>Belgrade</td>\n",
       "      <td>Government severly restricts flow of informati...</td>\n",
       "      <td>4.01.2020</td>\n",
       "      <td>https://balkaninsight.com/2020/04/01/serbian-g...</td>\n",
       "      <td>0</td>\n",
       "      <td>0</td>\n",
       "      <td>0</td>\n",
       "      <td>1</td>\n",
       "      <td>...</td>\n",
       "      <td>0</td>\n",
       "      <td>0</td>\n",
       "      <td>0</td>\n",
       "      <td></td>\n",
       "      <td>0</td>\n",
       "      <td>NaN</td>\n",
       "      <td>NaN</td>\n",
       "      <td>NaN</td>\n",
       "      <td>NaN</td>\n",
       "      <td>0</td>\n",
       "    </tr>\n",
       "  </tbody>\n",
       "</table>\n",
       "<p>5 rows × 25 columns</p>\n",
       "</div>"
      ],
      "text/plain": [
       "    Region     Country          City, Region  \\\n",
       "67     Asia      India  Hyderabad, Telangana   \n",
       "68     Asia      India  Hyderabad, Telangana   \n",
       "70     Asia      India    Thane, Maharashtra   \n",
       "89      CSA  Venezuela                   NaN   \n",
       "152     ECA     Serbia              Belgrade   \n",
       "\n",
       "                                           Description       date  \\\n",
       "67   Police in Hyderabad also beat and insulted Men...  3.23.2020   \n",
       "68   Police in Hyderabad hit Mohammed Hussain, a re...  3.23.2020   \n",
       "70   ETV deputy news editor Uttkarsh Chaturvedi was...  3.26.2020   \n",
       "89   Socorro has been target of coordinated state t...   3.0.2020   \n",
       "152  Government severly restricts flow of informati...  4.01.2020   \n",
       "\n",
       "                                                  Link  false_news  detained  \\\n",
       "67   https://www.siasat.com/journalist-unions-lodge...           0         0   \n",
       "68   https://twitter.com/writetohussain/status/1242...           0         0   \n",
       "70   https://www.rediff.com/news/report/tv-journali...           0         0   \n",
       "89   https://twitter.com/MilagrosSocorro/status/123...           0         0   \n",
       "152  https://balkaninsight.com/2020/04/01/serbian-g...           0         0   \n",
       "\n",
       "     arrested  imprisoned  ...  threatened  death  surveillance  \\\n",
       "67          0           1  ...           0      0             0   \n",
       "68          0           1  ...           0      0             0   \n",
       "70          0           1  ...           0      0             0   \n",
       "89          0           0  ...           0      0             0   \n",
       "152         0           1  ...           0      0             0   \n",
       "\n",
       "     New law or amendment Y/N  disinformation_propaganda  Censorship  \\\n",
       "67                        NaN                          0         NaN   \n",
       "68                        NaN                          0         NaN   \n",
       "70                        NaN                          0         NaN   \n",
       "89                        NaN                          0         NaN   \n",
       "152                                                    0         NaN   \n",
       "\n",
       "     Print Media  layoffs/furloughs/closures/salary cuts  \\\n",
       "67           NaN                                     NaN   \n",
       "68           NaN                                     NaN   \n",
       "70           NaN                                     NaN   \n",
       "89           NaN                                     NaN   \n",
       "152          NaN                                     NaN   \n",
       "\n",
       "    Prisoner released Y/N  group  \n",
       "67                    NaN      0  \n",
       "68                    NaN      0  \n",
       "70                    NaN      0  \n",
       "89                    NaN      0  \n",
       "152                   NaN      0  \n",
       "\n",
       "[5 rows x 25 columns]"
      ]
     },
     "execution_count": 35,
     "metadata": {},
     "output_type": "execute_result"
    }
   ],
   "source": [
    "df[(df['group'] == 0)]"
   ]
  },
  {
   "cell_type": "code",
   "execution_count": null,
   "metadata": {},
   "outputs": [],
   "source": []
  }
 ],
 "metadata": {
  "kernelspec": {
   "display_name": "Python 3",
   "language": "python",
   "name": "python3"
  },
  "language_info": {
   "codemirror_mode": {
    "name": "ipython",
    "version": 3
   },
   "file_extension": ".py",
   "mimetype": "text/x-python",
   "name": "python",
   "nbconvert_exporter": "python",
   "pygments_lexer": "ipython3",
   "version": "3.7.5"
  }
 },
 "nbformat": 4,
 "nbformat_minor": 4
}
